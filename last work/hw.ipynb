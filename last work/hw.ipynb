{
 "cells": [
  {
   "cell_type": "code",
   "execution_count": 25,
   "metadata": {},
   "outputs": [],
   "source": [
    "## for spatial analysis\n",
    "import geopandas as gpd\n",
    "\n",
    "## for data analysis\n",
    "import pandas as pd\n",
    "\n",
    "## for pretty charts\n",
    "import plotly.express as px\n",
    "\n",
    "# for plotly themes\n",
    "import plotly.io as pio\n",
    "\n",
    "## for URL requests\n",
    "import urllib.request\n",
    "import requests\n",
    "\n",
    "## for maps\n",
    "import folium\n",
    "from folium import plugins"
   ]
  },
  {
   "cell_type": "code",
   "execution_count": 26,
   "metadata": {},
   "outputs": [],
   "source": [
    "df=pd.read_csv('000047050.csv',encoding='cp932')"
   ]
  },
  {
   "cell_type": "code",
   "execution_count": 27,
   "metadata": {},
   "outputs": [
    {
     "data": {
      "text/html": [
       "<div>\n",
       "<style scoped>\n",
       "    .dataframe tbody tr th:only-of-type {\n",
       "        vertical-align: middle;\n",
       "    }\n",
       "\n",
       "    .dataframe tbody tr th {\n",
       "        vertical-align: top;\n",
       "    }\n",
       "\n",
       "    .dataframe thead th {\n",
       "        text-align: right;\n",
       "    }\n",
       "</style>\n",
       "<table border=\"1\" class=\"dataframe\">\n",
       "  <thead>\n",
       "    <tr style=\"text-align: right;\">\n",
       "      <th></th>\n",
       "      <th>罪名</th>\n",
       "      <th>手口</th>\n",
       "      <th>管轄警察署（発生地）</th>\n",
       "      <th>管轄交番・駐在所（発生地）</th>\n",
       "      <th>市区町村コード（発生地）</th>\n",
       "      <th>都道府県（発生地）</th>\n",
       "      <th>市区町村（発生地）</th>\n",
       "      <th>町丁目（発生地）</th>\n",
       "      <th>発生年月日（始期）</th>\n",
       "      <th>発生時（始期）</th>\n",
       "      <th>発生場所の属性</th>\n",
       "      <th>施錠関係</th>\n",
       "      <th>盗難防止装置の有無</th>\n",
       "      <th>現金以外の主な被害品</th>\n",
       "    </tr>\n",
       "  </thead>\n",
       "  <tbody>\n",
       "    <tr>\n",
       "      <th>0</th>\n",
       "      <td>窃盗</td>\n",
       "      <td>オートバイ盗</td>\n",
       "      <td>千葉中央</td>\n",
       "      <td>本町交番</td>\n",
       "      <td>121011</td>\n",
       "      <td>千葉県</td>\n",
       "      <td>千葉市中央区</td>\n",
       "      <td>要町</td>\n",
       "      <td>2018-01-12</td>\n",
       "      <td>07</td>\n",
       "      <td>道路上</td>\n",
       "      <td>キーあり</td>\n",
       "      <td>なし</td>\n",
       "      <td>原動機付自転車（50cc以下）</td>\n",
       "    </tr>\n",
       "    <tr>\n",
       "      <th>1</th>\n",
       "      <td>窃盗</td>\n",
       "      <td>オートバイ盗</td>\n",
       "      <td>千葉中央</td>\n",
       "      <td>蘇我駅前交番</td>\n",
       "      <td>121011</td>\n",
       "      <td>千葉県</td>\n",
       "      <td>千葉市中央区</td>\n",
       "      <td>南町２丁目</td>\n",
       "      <td>2018-06-08</td>\n",
       "      <td>10</td>\n",
       "      <td>駐車（輪）場</td>\n",
       "      <td>キーあり</td>\n",
       "      <td>なし</td>\n",
       "      <td>原動機付自転車（50cc以下）</td>\n",
       "    </tr>\n",
       "    <tr>\n",
       "      <th>2</th>\n",
       "      <td>窃盗</td>\n",
       "      <td>オートバイ盗</td>\n",
       "      <td>千葉中央</td>\n",
       "      <td>蘇我駅前交番</td>\n",
       "      <td>121011</td>\n",
       "      <td>千葉県</td>\n",
       "      <td>千葉市中央区</td>\n",
       "      <td>南町２丁目</td>\n",
       "      <td>2018-07-09</td>\n",
       "      <td>08</td>\n",
       "      <td>駐車（輪）場</td>\n",
       "      <td>キーあり</td>\n",
       "      <td>なし</td>\n",
       "      <td>原動機付自転車（50cc以下）</td>\n",
       "    </tr>\n",
       "    <tr>\n",
       "      <th>3</th>\n",
       "      <td>窃盗</td>\n",
       "      <td>オートバイ盗</td>\n",
       "      <td>千葉中央</td>\n",
       "      <td>浜野駅前交番</td>\n",
       "      <td>121011</td>\n",
       "      <td>千葉県</td>\n",
       "      <td>千葉市中央区</td>\n",
       "      <td>浜野町</td>\n",
       "      <td>2017-12-30</td>\n",
       "      <td>13</td>\n",
       "      <td>その他の住宅（３階建て以下共同住宅等）</td>\n",
       "      <td>キーあり</td>\n",
       "      <td>なし</td>\n",
       "      <td>自動二輪（50cc超）</td>\n",
       "    </tr>\n",
       "    <tr>\n",
       "      <th>4</th>\n",
       "      <td>窃盗</td>\n",
       "      <td>オートバイ盗</td>\n",
       "      <td>習志野</td>\n",
       "      <td>秋津交番</td>\n",
       "      <td>122165</td>\n",
       "      <td>千葉県</td>\n",
       "      <td>習志野市</td>\n",
       "      <td>秋津２丁目</td>\n",
       "      <td>2015-12-05</td>\n",
       "      <td>12</td>\n",
       "      <td>４階建て以上共同住宅</td>\n",
       "      <td>キーあり</td>\n",
       "      <td>なし</td>\n",
       "      <td>原動機付自転車（50cc以下）</td>\n",
       "    </tr>\n",
       "    <tr>\n",
       "      <th>...</th>\n",
       "      <td>...</td>\n",
       "      <td>...</td>\n",
       "      <td>...</td>\n",
       "      <td>...</td>\n",
       "      <td>...</td>\n",
       "      <td>...</td>\n",
       "      <td>...</td>\n",
       "      <td>...</td>\n",
       "      <td>...</td>\n",
       "      <td>...</td>\n",
       "      <td>...</td>\n",
       "      <td>...</td>\n",
       "      <td>...</td>\n",
       "      <td>...</td>\n",
       "    </tr>\n",
       "    <tr>\n",
       "      <th>1061</th>\n",
       "      <td>窃盗</td>\n",
       "      <td>オートバイ盗</td>\n",
       "      <td>四街道</td>\n",
       "      <td>四街道駅前交番</td>\n",
       "      <td>122289</td>\n",
       "      <td>千葉県</td>\n",
       "      <td>四街道市</td>\n",
       "      <td>四街道１丁目</td>\n",
       "      <td>2018-09-10</td>\n",
       "      <td>02</td>\n",
       "      <td>その他の住宅（３階建て以下共同住宅等）</td>\n",
       "      <td>キーなし</td>\n",
       "      <td>なし</td>\n",
       "      <td>原動機付自転車（50cc以下）</td>\n",
       "    </tr>\n",
       "    <tr>\n",
       "      <th>1062</th>\n",
       "      <td>窃盗</td>\n",
       "      <td>オートバイ盗</td>\n",
       "      <td>四街道</td>\n",
       "      <td>四街道駅前交番</td>\n",
       "      <td>122289</td>\n",
       "      <td>千葉県</td>\n",
       "      <td>四街道市</td>\n",
       "      <td>四街道２丁目</td>\n",
       "      <td>2018-06-08</td>\n",
       "      <td>21</td>\n",
       "      <td>駐車（輪）場</td>\n",
       "      <td>キーなし</td>\n",
       "      <td>なし</td>\n",
       "      <td>原動機付自転車（50cc以下）</td>\n",
       "    </tr>\n",
       "    <tr>\n",
       "      <th>1063</th>\n",
       "      <td>窃盗</td>\n",
       "      <td>オートバイ盗</td>\n",
       "      <td>四街道</td>\n",
       "      <td>四街道駅前交番</td>\n",
       "      <td>122289</td>\n",
       "      <td>千葉県</td>\n",
       "      <td>四街道市</td>\n",
       "      <td>和良比</td>\n",
       "      <td>2018-10-04</td>\n",
       "      <td>19</td>\n",
       "      <td>一戸建住宅</td>\n",
       "      <td>キーなし</td>\n",
       "      <td>なし</td>\n",
       "      <td>自動二輪（50cc超）</td>\n",
       "    </tr>\n",
       "    <tr>\n",
       "      <th>1064</th>\n",
       "      <td>窃盗</td>\n",
       "      <td>オートバイ盗</td>\n",
       "      <td>四街道</td>\n",
       "      <td>四街道駅前交番</td>\n",
       "      <td>122289</td>\n",
       "      <td>千葉県</td>\n",
       "      <td>四街道市</td>\n",
       "      <td>和良比</td>\n",
       "      <td>2018-11-27</td>\n",
       "      <td>22</td>\n",
       "      <td>一戸建住宅</td>\n",
       "      <td>キーなし</td>\n",
       "      <td>なし</td>\n",
       "      <td>原動機付自転車（50cc以下）</td>\n",
       "    </tr>\n",
       "    <tr>\n",
       "      <th>1065</th>\n",
       "      <td>窃盗</td>\n",
       "      <td>オートバイ盗</td>\n",
       "      <td>四街道</td>\n",
       "      <td>四街道駅前交番</td>\n",
       "      <td>122289</td>\n",
       "      <td>千葉県</td>\n",
       "      <td>四街道市</td>\n",
       "      <td>美しが丘１丁目</td>\n",
       "      <td>2018-12-24</td>\n",
       "      <td>02</td>\n",
       "      <td>４階建て以上共同住宅</td>\n",
       "      <td>キーなし</td>\n",
       "      <td>なし</td>\n",
       "      <td>自動二輪（50cc超）</td>\n",
       "    </tr>\n",
       "  </tbody>\n",
       "</table>\n",
       "<p>1066 rows × 14 columns</p>\n",
       "</div>"
      ],
      "text/plain": [
       "      罪名      手口 管轄警察署（発生地） 管轄交番・駐在所（発生地）  市区町村コード（発生地） 都道府県（発生地） 市区町村（発生地）   \n",
       "0     窃盗  オートバイ盗       千葉中央          本町交番        121011       千葉県    千葉市中央区  \\\n",
       "1     窃盗  オートバイ盗       千葉中央        蘇我駅前交番        121011       千葉県    千葉市中央区   \n",
       "2     窃盗  オートバイ盗       千葉中央        蘇我駅前交番        121011       千葉県    千葉市中央区   \n",
       "3     窃盗  オートバイ盗       千葉中央        浜野駅前交番        121011       千葉県    千葉市中央区   \n",
       "4     窃盗  オートバイ盗        習志野          秋津交番        122165       千葉県      習志野市   \n",
       "...   ..     ...        ...           ...           ...       ...       ...   \n",
       "1061  窃盗  オートバイ盗        四街道       四街道駅前交番        122289       千葉県      四街道市   \n",
       "1062  窃盗  オートバイ盗        四街道       四街道駅前交番        122289       千葉県      四街道市   \n",
       "1063  窃盗  オートバイ盗        四街道       四街道駅前交番        122289       千葉県      四街道市   \n",
       "1064  窃盗  オートバイ盗        四街道       四街道駅前交番        122289       千葉県      四街道市   \n",
       "1065  窃盗  オートバイ盗        四街道       四街道駅前交番        122289       千葉県      四街道市   \n",
       "\n",
       "     町丁目（発生地）   発生年月日（始期） 発生時（始期）              発生場所の属性  施錠関係 盗難防止装置の有無   \n",
       "0          要町  2018-01-12      07                  道路上  キーあり        なし  \\\n",
       "1       南町２丁目  2018-06-08      10               駐車（輪）場  キーあり        なし   \n",
       "2       南町２丁目  2018-07-09      08               駐車（輪）場  キーあり        なし   \n",
       "3         浜野町  2017-12-30      13  その他の住宅（３階建て以下共同住宅等）  キーあり        なし   \n",
       "4       秋津２丁目  2015-12-05      12           ４階建て以上共同住宅  キーあり        なし   \n",
       "...       ...         ...     ...                  ...   ...       ...   \n",
       "1061   四街道１丁目  2018-09-10      02  その他の住宅（３階建て以下共同住宅等）  キーなし        なし   \n",
       "1062   四街道２丁目  2018-06-08      21               駐車（輪）場  キーなし        なし   \n",
       "1063      和良比  2018-10-04      19                一戸建住宅  キーなし        なし   \n",
       "1064      和良比  2018-11-27      22                一戸建住宅  キーなし        なし   \n",
       "1065  美しが丘１丁目  2018-12-24      02           ４階建て以上共同住宅  キーなし        なし   \n",
       "\n",
       "           現金以外の主な被害品  \n",
       "0     原動機付自転車（50cc以下）  \n",
       "1     原動機付自転車（50cc以下）  \n",
       "2     原動機付自転車（50cc以下）  \n",
       "3         自動二輪（50cc超）  \n",
       "4     原動機付自転車（50cc以下）  \n",
       "...               ...  \n",
       "1061  原動機付自転車（50cc以下）  \n",
       "1062  原動機付自転車（50cc以下）  \n",
       "1063      自動二輪（50cc超）  \n",
       "1064  原動機付自転車（50cc以下）  \n",
       "1065      自動二輪（50cc超）  \n",
       "\n",
       "[1066 rows x 14 columns]"
      ]
     },
     "execution_count": 27,
     "metadata": {},
     "output_type": "execute_result"
    }
   ],
   "source": [
    "df"
   ]
  },
  {
   "cell_type": "code",
   "execution_count": 28,
   "metadata": {},
   "outputs": [],
   "source": [
    "bike_city = df['市区町村（発生地）'].value_counts().reset_index()"
   ]
  },
  {
   "cell_type": "code",
   "execution_count": 29,
   "metadata": {},
   "outputs": [
    {
     "data": {
      "text/html": [
       "<div>\n",
       "<style scoped>\n",
       "    .dataframe tbody tr th:only-of-type {\n",
       "        vertical-align: middle;\n",
       "    }\n",
       "\n",
       "    .dataframe tbody tr th {\n",
       "        vertical-align: top;\n",
       "    }\n",
       "\n",
       "    .dataframe thead th {\n",
       "        text-align: right;\n",
       "    }\n",
       "</style>\n",
       "<table border=\"1\" class=\"dataframe\">\n",
       "  <thead>\n",
       "    <tr style=\"text-align: right;\">\n",
       "      <th></th>\n",
       "      <th>市区町村（発生地）</th>\n",
       "      <th>count</th>\n",
       "    </tr>\n",
       "  </thead>\n",
       "  <tbody>\n",
       "    <tr>\n",
       "      <th>0</th>\n",
       "      <td>松戸市</td>\n",
       "      <td>134</td>\n",
       "    </tr>\n",
       "    <tr>\n",
       "      <th>1</th>\n",
       "      <td>船橋市</td>\n",
       "      <td>96</td>\n",
       "    </tr>\n",
       "    <tr>\n",
       "      <th>2</th>\n",
       "      <td>市川市</td>\n",
       "      <td>69</td>\n",
       "    </tr>\n",
       "    <tr>\n",
       "      <th>3</th>\n",
       "      <td>柏市</td>\n",
       "      <td>65</td>\n",
       "    </tr>\n",
       "    <tr>\n",
       "      <th>4</th>\n",
       "      <td>八千代市</td>\n",
       "      <td>57</td>\n",
       "    </tr>\n",
       "    <tr>\n",
       "      <th>5</th>\n",
       "      <td>千葉市若葉区</td>\n",
       "      <td>47</td>\n",
       "    </tr>\n",
       "    <tr>\n",
       "      <th>6</th>\n",
       "      <td>千葉市稲毛区</td>\n",
       "      <td>45</td>\n",
       "    </tr>\n",
       "    <tr>\n",
       "      <th>7</th>\n",
       "      <td>千葉市花見川区</td>\n",
       "      <td>43</td>\n",
       "    </tr>\n",
       "    <tr>\n",
       "      <th>8</th>\n",
       "      <td>佐倉市</td>\n",
       "      <td>42</td>\n",
       "    </tr>\n",
       "    <tr>\n",
       "      <th>9</th>\n",
       "      <td>千葉市中央区</td>\n",
       "      <td>38</td>\n",
       "    </tr>\n",
       "    <tr>\n",
       "      <th>10</th>\n",
       "      <td>習志野市</td>\n",
       "      <td>37</td>\n",
       "    </tr>\n",
       "    <tr>\n",
       "      <th>11</th>\n",
       "      <td>鎌ケ谷市</td>\n",
       "      <td>34</td>\n",
       "    </tr>\n",
       "    <tr>\n",
       "      <th>12</th>\n",
       "      <td>市原市</td>\n",
       "      <td>34</td>\n",
       "    </tr>\n",
       "    <tr>\n",
       "      <th>13</th>\n",
       "      <td>野田市</td>\n",
       "      <td>32</td>\n",
       "    </tr>\n",
       "    <tr>\n",
       "      <th>14</th>\n",
       "      <td>四街道市</td>\n",
       "      <td>30</td>\n",
       "    </tr>\n",
       "    <tr>\n",
       "      <th>15</th>\n",
       "      <td>八街市</td>\n",
       "      <td>26</td>\n",
       "    </tr>\n",
       "    <tr>\n",
       "      <th>16</th>\n",
       "      <td>流山市</td>\n",
       "      <td>25</td>\n",
       "    </tr>\n",
       "    <tr>\n",
       "      <th>17</th>\n",
       "      <td>成田市</td>\n",
       "      <td>22</td>\n",
       "    </tr>\n",
       "    <tr>\n",
       "      <th>18</th>\n",
       "      <td>千葉市緑区</td>\n",
       "      <td>20</td>\n",
       "    </tr>\n",
       "    <tr>\n",
       "      <th>19</th>\n",
       "      <td>我孫子市</td>\n",
       "      <td>19</td>\n",
       "    </tr>\n",
       "    <tr>\n",
       "      <th>20</th>\n",
       "      <td>富里市</td>\n",
       "      <td>17</td>\n",
       "    </tr>\n",
       "    <tr>\n",
       "      <th>21</th>\n",
       "      <td>千葉市美浜区</td>\n",
       "      <td>17</td>\n",
       "    </tr>\n",
       "    <tr>\n",
       "      <th>22</th>\n",
       "      <td>酒々井町</td>\n",
       "      <td>15</td>\n",
       "    </tr>\n",
       "    <tr>\n",
       "      <th>23</th>\n",
       "      <td>白井市</td>\n",
       "      <td>14</td>\n",
       "    </tr>\n",
       "    <tr>\n",
       "      <th>24</th>\n",
       "      <td>浦安市</td>\n",
       "      <td>13</td>\n",
       "    </tr>\n",
       "    <tr>\n",
       "      <th>25</th>\n",
       "      <td>木更津市</td>\n",
       "      <td>12</td>\n",
       "    </tr>\n",
       "    <tr>\n",
       "      <th>26</th>\n",
       "      <td>印西市</td>\n",
       "      <td>10</td>\n",
       "    </tr>\n",
       "    <tr>\n",
       "      <th>27</th>\n",
       "      <td>富津市</td>\n",
       "      <td>6</td>\n",
       "    </tr>\n",
       "    <tr>\n",
       "      <th>28</th>\n",
       "      <td>袖ケ浦市</td>\n",
       "      <td>6</td>\n",
       "    </tr>\n",
       "    <tr>\n",
       "      <th>29</th>\n",
       "      <td>大網白里市</td>\n",
       "      <td>6</td>\n",
       "    </tr>\n",
       "    <tr>\n",
       "      <th>30</th>\n",
       "      <td>旭市</td>\n",
       "      <td>4</td>\n",
       "    </tr>\n",
       "    <tr>\n",
       "      <th>31</th>\n",
       "      <td>茂原市</td>\n",
       "      <td>4</td>\n",
       "    </tr>\n",
       "    <tr>\n",
       "      <th>32</th>\n",
       "      <td>東金市</td>\n",
       "      <td>4</td>\n",
       "    </tr>\n",
       "    <tr>\n",
       "      <th>33</th>\n",
       "      <td>勝浦市</td>\n",
       "      <td>3</td>\n",
       "    </tr>\n",
       "    <tr>\n",
       "      <th>34</th>\n",
       "      <td>山武市</td>\n",
       "      <td>3</td>\n",
       "    </tr>\n",
       "    <tr>\n",
       "      <th>35</th>\n",
       "      <td>栄町</td>\n",
       "      <td>3</td>\n",
       "    </tr>\n",
       "    <tr>\n",
       "      <th>36</th>\n",
       "      <td>香取市</td>\n",
       "      <td>2</td>\n",
       "    </tr>\n",
       "    <tr>\n",
       "      <th>37</th>\n",
       "      <td>鋸南町</td>\n",
       "      <td>1</td>\n",
       "    </tr>\n",
       "    <tr>\n",
       "      <th>38</th>\n",
       "      <td>一宮町</td>\n",
       "      <td>1</td>\n",
       "    </tr>\n",
       "    <tr>\n",
       "      <th>39</th>\n",
       "      <td>長生村</td>\n",
       "      <td>1</td>\n",
       "    </tr>\n",
       "    <tr>\n",
       "      <th>40</th>\n",
       "      <td>東庄町</td>\n",
       "      <td>1</td>\n",
       "    </tr>\n",
       "    <tr>\n",
       "      <th>41</th>\n",
       "      <td>銚子市</td>\n",
       "      <td>1</td>\n",
       "    </tr>\n",
       "    <tr>\n",
       "      <th>42</th>\n",
       "      <td>匝瑳市</td>\n",
       "      <td>1</td>\n",
       "    </tr>\n",
       "    <tr>\n",
       "      <th>43</th>\n",
       "      <td>いすみ市</td>\n",
       "      <td>1</td>\n",
       "    </tr>\n",
       "    <tr>\n",
       "      <th>44</th>\n",
       "      <td>芝山町</td>\n",
       "      <td>1</td>\n",
       "    </tr>\n",
       "    <tr>\n",
       "      <th>45</th>\n",
       "      <td>九十九里町</td>\n",
       "      <td>1</td>\n",
       "    </tr>\n",
       "    <tr>\n",
       "      <th>46</th>\n",
       "      <td>鴨川市</td>\n",
       "      <td>1</td>\n",
       "    </tr>\n",
       "    <tr>\n",
       "      <th>47</th>\n",
       "      <td>君津市</td>\n",
       "      <td>1</td>\n",
       "    </tr>\n",
       "    <tr>\n",
       "      <th>48</th>\n",
       "      <td>館山市</td>\n",
       "      <td>1</td>\n",
       "    </tr>\n",
       "  </tbody>\n",
       "</table>\n",
       "</div>"
      ],
      "text/plain": [
       "   市区町村（発生地）  count\n",
       "0        松戸市    134\n",
       "1        船橋市     96\n",
       "2        市川市     69\n",
       "3         柏市     65\n",
       "4       八千代市     57\n",
       "5     千葉市若葉区     47\n",
       "6     千葉市稲毛区     45\n",
       "7    千葉市花見川区     43\n",
       "8        佐倉市     42\n",
       "9     千葉市中央区     38\n",
       "10      習志野市     37\n",
       "11      鎌ケ谷市     34\n",
       "12       市原市     34\n",
       "13       野田市     32\n",
       "14      四街道市     30\n",
       "15       八街市     26\n",
       "16       流山市     25\n",
       "17       成田市     22\n",
       "18     千葉市緑区     20\n",
       "19      我孫子市     19\n",
       "20       富里市     17\n",
       "21    千葉市美浜区     17\n",
       "22      酒々井町     15\n",
       "23       白井市     14\n",
       "24       浦安市     13\n",
       "25      木更津市     12\n",
       "26       印西市     10\n",
       "27       富津市      6\n",
       "28      袖ケ浦市      6\n",
       "29     大網白里市      6\n",
       "30        旭市      4\n",
       "31       茂原市      4\n",
       "32       東金市      4\n",
       "33       勝浦市      3\n",
       "34       山武市      3\n",
       "35        栄町      3\n",
       "36       香取市      2\n",
       "37       鋸南町      1\n",
       "38       一宮町      1\n",
       "39       長生村      1\n",
       "40       東庄町      1\n",
       "41       銚子市      1\n",
       "42       匝瑳市      1\n",
       "43      いすみ市      1\n",
       "44       芝山町      1\n",
       "45     九十九里町      1\n",
       "46       鴨川市      1\n",
       "47       君津市      1\n",
       "48       館山市      1"
      ]
     },
     "execution_count": 29,
     "metadata": {},
     "output_type": "execute_result"
    }
   ],
   "source": [
    "bike_city"
   ]
  },
  {
   "cell_type": "code",
   "execution_count": 30,
   "metadata": {},
   "outputs": [
    {
     "data": {
      "application/vnd.plotly.v1+json": {
       "config": {
        "plotlyServerURL": "https://plot.ly"
       },
       "data": [
        {
         "alignmentgroup": "True",
         "hovertemplate": "市区町村（発生地）=%{x}<br>count=%{y}<extra></extra>",
         "legendgroup": "",
         "marker": {
          "color": "#636efa",
          "pattern": {
           "shape": ""
          }
         },
         "name": "",
         "offsetgroup": "",
         "orientation": "v",
         "showlegend": false,
         "textposition": "auto",
         "type": "bar",
         "x": [
          "松戸市",
          "船橋市",
          "市川市",
          "柏市",
          "八千代市",
          "千葉市若葉区",
          "千葉市稲毛区",
          "千葉市花見川区",
          "佐倉市",
          "千葉市中央区"
         ],
         "xaxis": "x",
         "y": [
          134,
          96,
          69,
          65,
          57,
          47,
          45,
          43,
          42,
          38
         ],
         "yaxis": "y"
        }
       ],
       "layout": {
        "barmode": "relative",
        "legend": {
         "tracegroupgap": 0
        },
        "margin": {
         "t": 60
        },
        "template": {
         "data": {
          "bar": [
           {
            "error_x": {
             "color": "#2a3f5f"
            },
            "error_y": {
             "color": "#2a3f5f"
            },
            "marker": {
             "line": {
              "color": "#E5ECF6",
              "width": 0.5
             },
             "pattern": {
              "fillmode": "overlay",
              "size": 10,
              "solidity": 0.2
             }
            },
            "type": "bar"
           }
          ],
          "barpolar": [
           {
            "marker": {
             "line": {
              "color": "#E5ECF6",
              "width": 0.5
             },
             "pattern": {
              "fillmode": "overlay",
              "size": 10,
              "solidity": 0.2
             }
            },
            "type": "barpolar"
           }
          ],
          "carpet": [
           {
            "aaxis": {
             "endlinecolor": "#2a3f5f",
             "gridcolor": "white",
             "linecolor": "white",
             "minorgridcolor": "white",
             "startlinecolor": "#2a3f5f"
            },
            "baxis": {
             "endlinecolor": "#2a3f5f",
             "gridcolor": "white",
             "linecolor": "white",
             "minorgridcolor": "white",
             "startlinecolor": "#2a3f5f"
            },
            "type": "carpet"
           }
          ],
          "choropleth": [
           {
            "colorbar": {
             "outlinewidth": 0,
             "ticks": ""
            },
            "type": "choropleth"
           }
          ],
          "contour": [
           {
            "colorbar": {
             "outlinewidth": 0,
             "ticks": ""
            },
            "colorscale": [
             [
              0,
              "#0d0887"
             ],
             [
              0.1111111111111111,
              "#46039f"
             ],
             [
              0.2222222222222222,
              "#7201a8"
             ],
             [
              0.3333333333333333,
              "#9c179e"
             ],
             [
              0.4444444444444444,
              "#bd3786"
             ],
             [
              0.5555555555555556,
              "#d8576b"
             ],
             [
              0.6666666666666666,
              "#ed7953"
             ],
             [
              0.7777777777777778,
              "#fb9f3a"
             ],
             [
              0.8888888888888888,
              "#fdca26"
             ],
             [
              1,
              "#f0f921"
             ]
            ],
            "type": "contour"
           }
          ],
          "contourcarpet": [
           {
            "colorbar": {
             "outlinewidth": 0,
             "ticks": ""
            },
            "type": "contourcarpet"
           }
          ],
          "heatmap": [
           {
            "colorbar": {
             "outlinewidth": 0,
             "ticks": ""
            },
            "colorscale": [
             [
              0,
              "#0d0887"
             ],
             [
              0.1111111111111111,
              "#46039f"
             ],
             [
              0.2222222222222222,
              "#7201a8"
             ],
             [
              0.3333333333333333,
              "#9c179e"
             ],
             [
              0.4444444444444444,
              "#bd3786"
             ],
             [
              0.5555555555555556,
              "#d8576b"
             ],
             [
              0.6666666666666666,
              "#ed7953"
             ],
             [
              0.7777777777777778,
              "#fb9f3a"
             ],
             [
              0.8888888888888888,
              "#fdca26"
             ],
             [
              1,
              "#f0f921"
             ]
            ],
            "type": "heatmap"
           }
          ],
          "heatmapgl": [
           {
            "colorbar": {
             "outlinewidth": 0,
             "ticks": ""
            },
            "colorscale": [
             [
              0,
              "#0d0887"
             ],
             [
              0.1111111111111111,
              "#46039f"
             ],
             [
              0.2222222222222222,
              "#7201a8"
             ],
             [
              0.3333333333333333,
              "#9c179e"
             ],
             [
              0.4444444444444444,
              "#bd3786"
             ],
             [
              0.5555555555555556,
              "#d8576b"
             ],
             [
              0.6666666666666666,
              "#ed7953"
             ],
             [
              0.7777777777777778,
              "#fb9f3a"
             ],
             [
              0.8888888888888888,
              "#fdca26"
             ],
             [
              1,
              "#f0f921"
             ]
            ],
            "type": "heatmapgl"
           }
          ],
          "histogram": [
           {
            "marker": {
             "pattern": {
              "fillmode": "overlay",
              "size": 10,
              "solidity": 0.2
             }
            },
            "type": "histogram"
           }
          ],
          "histogram2d": [
           {
            "colorbar": {
             "outlinewidth": 0,
             "ticks": ""
            },
            "colorscale": [
             [
              0,
              "#0d0887"
             ],
             [
              0.1111111111111111,
              "#46039f"
             ],
             [
              0.2222222222222222,
              "#7201a8"
             ],
             [
              0.3333333333333333,
              "#9c179e"
             ],
             [
              0.4444444444444444,
              "#bd3786"
             ],
             [
              0.5555555555555556,
              "#d8576b"
             ],
             [
              0.6666666666666666,
              "#ed7953"
             ],
             [
              0.7777777777777778,
              "#fb9f3a"
             ],
             [
              0.8888888888888888,
              "#fdca26"
             ],
             [
              1,
              "#f0f921"
             ]
            ],
            "type": "histogram2d"
           }
          ],
          "histogram2dcontour": [
           {
            "colorbar": {
             "outlinewidth": 0,
             "ticks": ""
            },
            "colorscale": [
             [
              0,
              "#0d0887"
             ],
             [
              0.1111111111111111,
              "#46039f"
             ],
             [
              0.2222222222222222,
              "#7201a8"
             ],
             [
              0.3333333333333333,
              "#9c179e"
             ],
             [
              0.4444444444444444,
              "#bd3786"
             ],
             [
              0.5555555555555556,
              "#d8576b"
             ],
             [
              0.6666666666666666,
              "#ed7953"
             ],
             [
              0.7777777777777778,
              "#fb9f3a"
             ],
             [
              0.8888888888888888,
              "#fdca26"
             ],
             [
              1,
              "#f0f921"
             ]
            ],
            "type": "histogram2dcontour"
           }
          ],
          "mesh3d": [
           {
            "colorbar": {
             "outlinewidth": 0,
             "ticks": ""
            },
            "type": "mesh3d"
           }
          ],
          "parcoords": [
           {
            "line": {
             "colorbar": {
              "outlinewidth": 0,
              "ticks": ""
             }
            },
            "type": "parcoords"
           }
          ],
          "pie": [
           {
            "automargin": true,
            "type": "pie"
           }
          ],
          "scatter": [
           {
            "fillpattern": {
             "fillmode": "overlay",
             "size": 10,
             "solidity": 0.2
            },
            "type": "scatter"
           }
          ],
          "scatter3d": [
           {
            "line": {
             "colorbar": {
              "outlinewidth": 0,
              "ticks": ""
             }
            },
            "marker": {
             "colorbar": {
              "outlinewidth": 0,
              "ticks": ""
             }
            },
            "type": "scatter3d"
           }
          ],
          "scattercarpet": [
           {
            "marker": {
             "colorbar": {
              "outlinewidth": 0,
              "ticks": ""
             }
            },
            "type": "scattercarpet"
           }
          ],
          "scattergeo": [
           {
            "marker": {
             "colorbar": {
              "outlinewidth": 0,
              "ticks": ""
             }
            },
            "type": "scattergeo"
           }
          ],
          "scattergl": [
           {
            "marker": {
             "colorbar": {
              "outlinewidth": 0,
              "ticks": ""
             }
            },
            "type": "scattergl"
           }
          ],
          "scattermapbox": [
           {
            "marker": {
             "colorbar": {
              "outlinewidth": 0,
              "ticks": ""
             }
            },
            "type": "scattermapbox"
           }
          ],
          "scatterpolar": [
           {
            "marker": {
             "colorbar": {
              "outlinewidth": 0,
              "ticks": ""
             }
            },
            "type": "scatterpolar"
           }
          ],
          "scatterpolargl": [
           {
            "marker": {
             "colorbar": {
              "outlinewidth": 0,
              "ticks": ""
             }
            },
            "type": "scatterpolargl"
           }
          ],
          "scatterternary": [
           {
            "marker": {
             "colorbar": {
              "outlinewidth": 0,
              "ticks": ""
             }
            },
            "type": "scatterternary"
           }
          ],
          "surface": [
           {
            "colorbar": {
             "outlinewidth": 0,
             "ticks": ""
            },
            "colorscale": [
             [
              0,
              "#0d0887"
             ],
             [
              0.1111111111111111,
              "#46039f"
             ],
             [
              0.2222222222222222,
              "#7201a8"
             ],
             [
              0.3333333333333333,
              "#9c179e"
             ],
             [
              0.4444444444444444,
              "#bd3786"
             ],
             [
              0.5555555555555556,
              "#d8576b"
             ],
             [
              0.6666666666666666,
              "#ed7953"
             ],
             [
              0.7777777777777778,
              "#fb9f3a"
             ],
             [
              0.8888888888888888,
              "#fdca26"
             ],
             [
              1,
              "#f0f921"
             ]
            ],
            "type": "surface"
           }
          ],
          "table": [
           {
            "cells": {
             "fill": {
              "color": "#EBF0F8"
             },
             "line": {
              "color": "white"
             }
            },
            "header": {
             "fill": {
              "color": "#C8D4E3"
             },
             "line": {
              "color": "white"
             }
            },
            "type": "table"
           }
          ]
         },
         "layout": {
          "annotationdefaults": {
           "arrowcolor": "#2a3f5f",
           "arrowhead": 0,
           "arrowwidth": 1
          },
          "autotypenumbers": "strict",
          "coloraxis": {
           "colorbar": {
            "outlinewidth": 0,
            "ticks": ""
           }
          },
          "colorscale": {
           "diverging": [
            [
             0,
             "#8e0152"
            ],
            [
             0.1,
             "#c51b7d"
            ],
            [
             0.2,
             "#de77ae"
            ],
            [
             0.3,
             "#f1b6da"
            ],
            [
             0.4,
             "#fde0ef"
            ],
            [
             0.5,
             "#f7f7f7"
            ],
            [
             0.6,
             "#e6f5d0"
            ],
            [
             0.7,
             "#b8e186"
            ],
            [
             0.8,
             "#7fbc41"
            ],
            [
             0.9,
             "#4d9221"
            ],
            [
             1,
             "#276419"
            ]
           ],
           "sequential": [
            [
             0,
             "#0d0887"
            ],
            [
             0.1111111111111111,
             "#46039f"
            ],
            [
             0.2222222222222222,
             "#7201a8"
            ],
            [
             0.3333333333333333,
             "#9c179e"
            ],
            [
             0.4444444444444444,
             "#bd3786"
            ],
            [
             0.5555555555555556,
             "#d8576b"
            ],
            [
             0.6666666666666666,
             "#ed7953"
            ],
            [
             0.7777777777777778,
             "#fb9f3a"
            ],
            [
             0.8888888888888888,
             "#fdca26"
            ],
            [
             1,
             "#f0f921"
            ]
           ],
           "sequentialminus": [
            [
             0,
             "#0d0887"
            ],
            [
             0.1111111111111111,
             "#46039f"
            ],
            [
             0.2222222222222222,
             "#7201a8"
            ],
            [
             0.3333333333333333,
             "#9c179e"
            ],
            [
             0.4444444444444444,
             "#bd3786"
            ],
            [
             0.5555555555555556,
             "#d8576b"
            ],
            [
             0.6666666666666666,
             "#ed7953"
            ],
            [
             0.7777777777777778,
             "#fb9f3a"
            ],
            [
             0.8888888888888888,
             "#fdca26"
            ],
            [
             1,
             "#f0f921"
            ]
           ]
          },
          "colorway": [
           "#636efa",
           "#EF553B",
           "#00cc96",
           "#ab63fa",
           "#FFA15A",
           "#19d3f3",
           "#FF6692",
           "#B6E880",
           "#FF97FF",
           "#FECB52"
          ],
          "font": {
           "color": "#2a3f5f"
          },
          "geo": {
           "bgcolor": "white",
           "lakecolor": "white",
           "landcolor": "#E5ECF6",
           "showlakes": true,
           "showland": true,
           "subunitcolor": "white"
          },
          "hoverlabel": {
           "align": "left"
          },
          "hovermode": "closest",
          "mapbox": {
           "style": "light"
          },
          "paper_bgcolor": "white",
          "plot_bgcolor": "#E5ECF6",
          "polar": {
           "angularaxis": {
            "gridcolor": "white",
            "linecolor": "white",
            "ticks": ""
           },
           "bgcolor": "#E5ECF6",
           "radialaxis": {
            "gridcolor": "white",
            "linecolor": "white",
            "ticks": ""
           }
          },
          "scene": {
           "xaxis": {
            "backgroundcolor": "#E5ECF6",
            "gridcolor": "white",
            "gridwidth": 2,
            "linecolor": "white",
            "showbackground": true,
            "ticks": "",
            "zerolinecolor": "white"
           },
           "yaxis": {
            "backgroundcolor": "#E5ECF6",
            "gridcolor": "white",
            "gridwidth": 2,
            "linecolor": "white",
            "showbackground": true,
            "ticks": "",
            "zerolinecolor": "white"
           },
           "zaxis": {
            "backgroundcolor": "#E5ECF6",
            "gridcolor": "white",
            "gridwidth": 2,
            "linecolor": "white",
            "showbackground": true,
            "ticks": "",
            "zerolinecolor": "white"
           }
          },
          "shapedefaults": {
           "line": {
            "color": "#2a3f5f"
           }
          },
          "ternary": {
           "aaxis": {
            "gridcolor": "white",
            "linecolor": "white",
            "ticks": ""
           },
           "baxis": {
            "gridcolor": "white",
            "linecolor": "white",
            "ticks": ""
           },
           "bgcolor": "#E5ECF6",
           "caxis": {
            "gridcolor": "white",
            "linecolor": "white",
            "ticks": ""
           }
          },
          "title": {
           "x": 0.05
          },
          "xaxis": {
           "automargin": true,
           "gridcolor": "white",
           "linecolor": "white",
           "ticks": "",
           "title": {
            "standoff": 15
           },
           "zerolinecolor": "white",
           "zerolinewidth": 2
          },
          "yaxis": {
           "automargin": true,
           "gridcolor": "white",
           "linecolor": "white",
           "ticks": "",
           "title": {
            "standoff": 15
           },
           "zerolinecolor": "white",
           "zerolinewidth": 2
          }
         }
        },
        "xaxis": {
         "anchor": "y",
         "domain": [
          0,
          1
         ],
         "title": {
          "text": "市区町村（発生地）"
         }
        },
        "yaxis": {
         "anchor": "x",
         "domain": [
          0,
          1
         ],
         "title": {
          "text": "count"
         }
        }
       }
      }
     },
     "metadata": {},
     "output_type": "display_data"
    }
   ],
   "source": [
    "fig = px.bar(bike_city.head(10),x='市区町村（発生地）',y='count',)\n",
    "fig.show()"
   ]
  },
  {
   "cell_type": "code",
   "execution_count": 31,
   "metadata": {},
   "outputs": [
    {
     "data": {
      "text/html": [
       "<div>\n",
       "<style scoped>\n",
       "    .dataframe tbody tr th:only-of-type {\n",
       "        vertical-align: middle;\n",
       "    }\n",
       "\n",
       "    .dataframe tbody tr th {\n",
       "        vertical-align: top;\n",
       "    }\n",
       "\n",
       "    .dataframe thead th {\n",
       "        text-align: right;\n",
       "    }\n",
       "</style>\n",
       "<table border=\"1\" class=\"dataframe\">\n",
       "  <thead>\n",
       "    <tr style=\"text-align: right;\">\n",
       "      <th></th>\n",
       "      <th>罪名</th>\n",
       "      <th>手口</th>\n",
       "      <th>管轄警察署（発生地）</th>\n",
       "      <th>管轄交番・駐在所（発生地）</th>\n",
       "      <th>市区町村コード（発生地）</th>\n",
       "      <th>都道府県（発生地）</th>\n",
       "      <th>市区町村（発生地）</th>\n",
       "      <th>町丁目（発生地）</th>\n",
       "      <th>発生年月日（始期）</th>\n",
       "      <th>発生時（始期）</th>\n",
       "      <th>発生場所の属性</th>\n",
       "      <th>施錠関係</th>\n",
       "      <th>盗難防止装置の有無</th>\n",
       "      <th>現金以外の主な被害品</th>\n",
       "    </tr>\n",
       "  </thead>\n",
       "  <tbody>\n",
       "    <tr>\n",
       "      <th>80</th>\n",
       "      <td>窃盗</td>\n",
       "      <td>オートバイ盗</td>\n",
       "      <td>柏</td>\n",
       "      <td>旭町交番</td>\n",
       "      <td>122173</td>\n",
       "      <td>千葉県</td>\n",
       "      <td>柏市</td>\n",
       "      <td>あけぼの３丁目</td>\n",
       "      <td>2017-01-01</td>\n",
       "      <td>00</td>\n",
       "      <td>その他の住宅（３階建て以下共同住宅等）</td>\n",
       "      <td>キーあり</td>\n",
       "      <td>なし</td>\n",
       "      <td>原動機付自転車（50cc以下）</td>\n",
       "    </tr>\n",
       "    <tr>\n",
       "      <th>81</th>\n",
       "      <td>窃盗</td>\n",
       "      <td>オートバイ盗</td>\n",
       "      <td>柏</td>\n",
       "      <td>旭町交番</td>\n",
       "      <td>122173</td>\n",
       "      <td>千葉県</td>\n",
       "      <td>柏市</td>\n",
       "      <td>旭町５丁目</td>\n",
       "      <td>2018-09-18</td>\n",
       "      <td>15</td>\n",
       "      <td>道路上</td>\n",
       "      <td>キーあり</td>\n",
       "      <td>なし</td>\n",
       "      <td>自動二輪（50cc超）</td>\n",
       "    </tr>\n",
       "    <tr>\n",
       "      <th>82</th>\n",
       "      <td>窃盗</td>\n",
       "      <td>オートバイ盗</td>\n",
       "      <td>柏</td>\n",
       "      <td>大津ヶ丘交番</td>\n",
       "      <td>122173</td>\n",
       "      <td>千葉県</td>\n",
       "      <td>柏市</td>\n",
       "      <td>大津ケ丘２丁目</td>\n",
       "      <td>2018-01-15</td>\n",
       "      <td>17</td>\n",
       "      <td>４階建て以上共同住宅</td>\n",
       "      <td>キーあり</td>\n",
       "      <td>なし</td>\n",
       "      <td>なし</td>\n",
       "    </tr>\n",
       "    <tr>\n",
       "      <th>83</th>\n",
       "      <td>窃盗</td>\n",
       "      <td>オートバイ盗</td>\n",
       "      <td>柏</td>\n",
       "      <td>大津ヶ丘交番</td>\n",
       "      <td>122173</td>\n",
       "      <td>千葉県</td>\n",
       "      <td>柏市</td>\n",
       "      <td>大津ケ丘４丁目</td>\n",
       "      <td>2018-05-11</td>\n",
       "      <td>06</td>\n",
       "      <td>道路上</td>\n",
       "      <td>キーあり</td>\n",
       "      <td>なし</td>\n",
       "      <td>原動機付自転車（50cc以下）</td>\n",
       "    </tr>\n",
       "    <tr>\n",
       "      <th>84</th>\n",
       "      <td>窃盗</td>\n",
       "      <td>オートバイ盗</td>\n",
       "      <td>柏</td>\n",
       "      <td>大津ヶ丘交番</td>\n",
       "      <td>122173</td>\n",
       "      <td>千葉県</td>\n",
       "      <td>柏市</td>\n",
       "      <td>大津ケ丘４丁目</td>\n",
       "      <td>2018-10-29</td>\n",
       "      <td>08</td>\n",
       "      <td>４階建て以上共同住宅</td>\n",
       "      <td>キーあり</td>\n",
       "      <td>なし</td>\n",
       "      <td>原動機付自転車（50cc以下）</td>\n",
       "    </tr>\n",
       "    <tr>\n",
       "      <th>...</th>\n",
       "      <td>...</td>\n",
       "      <td>...</td>\n",
       "      <td>...</td>\n",
       "      <td>...</td>\n",
       "      <td>...</td>\n",
       "      <td>...</td>\n",
       "      <td>...</td>\n",
       "      <td>...</td>\n",
       "      <td>...</td>\n",
       "      <td>...</td>\n",
       "      <td>...</td>\n",
       "      <td>...</td>\n",
       "      <td>...</td>\n",
       "      <td>...</td>\n",
       "    </tr>\n",
       "    <tr>\n",
       "      <th>554</th>\n",
       "      <td>窃盗</td>\n",
       "      <td>オートバイ盗</td>\n",
       "      <td>柏</td>\n",
       "      <td>高柳交番</td>\n",
       "      <td>122173</td>\n",
       "      <td>千葉県</td>\n",
       "      <td>柏市</td>\n",
       "      <td>高柳</td>\n",
       "      <td>2018-06-20</td>\n",
       "      <td>01</td>\n",
       "      <td>その他の住宅（３階建て以下共同住宅等）</td>\n",
       "      <td>キーなし</td>\n",
       "      <td>なし</td>\n",
       "      <td>自動二輪（50cc超）</td>\n",
       "    </tr>\n",
       "    <tr>\n",
       "      <th>555</th>\n",
       "      <td>窃盗</td>\n",
       "      <td>オートバイ盗</td>\n",
       "      <td>柏</td>\n",
       "      <td>高柳交番</td>\n",
       "      <td>122173</td>\n",
       "      <td>千葉県</td>\n",
       "      <td>柏市</td>\n",
       "      <td>高柳</td>\n",
       "      <td>2018-12-19</td>\n",
       "      <td>20</td>\n",
       "      <td>駐車（輪）場</td>\n",
       "      <td>キーなし</td>\n",
       "      <td>なし</td>\n",
       "      <td>自動二輪（50cc超）</td>\n",
       "    </tr>\n",
       "    <tr>\n",
       "      <th>556</th>\n",
       "      <td>窃盗</td>\n",
       "      <td>オートバイ盗</td>\n",
       "      <td>柏</td>\n",
       "      <td>泉駐在所</td>\n",
       "      <td>122173</td>\n",
       "      <td>千葉県</td>\n",
       "      <td>柏市</td>\n",
       "      <td>鷲野谷</td>\n",
       "      <td>2018-11-03</td>\n",
       "      <td>19</td>\n",
       "      <td>その他</td>\n",
       "      <td>キーなし</td>\n",
       "      <td>なし</td>\n",
       "      <td>自動二輪（50cc超）</td>\n",
       "    </tr>\n",
       "    <tr>\n",
       "      <th>557</th>\n",
       "      <td>窃盗</td>\n",
       "      <td>オートバイ盗</td>\n",
       "      <td>柏</td>\n",
       "      <td>藤ヶ谷駐在所</td>\n",
       "      <td>122173</td>\n",
       "      <td>千葉県</td>\n",
       "      <td>柏市</td>\n",
       "      <td>藤ケ谷</td>\n",
       "      <td>2016-11-01</td>\n",
       "      <td>00</td>\n",
       "      <td>その他</td>\n",
       "      <td>キーなし</td>\n",
       "      <td>なし</td>\n",
       "      <td>自動二輪（50cc超）</td>\n",
       "    </tr>\n",
       "    <tr>\n",
       "      <th>558</th>\n",
       "      <td>窃盗</td>\n",
       "      <td>オートバイ盗</td>\n",
       "      <td>柏</td>\n",
       "      <td>藤ヶ谷駐在所</td>\n",
       "      <td>122173</td>\n",
       "      <td>千葉県</td>\n",
       "      <td>柏市</td>\n",
       "      <td>藤ケ谷</td>\n",
       "      <td>2018-01-24</td>\n",
       "      <td>16</td>\n",
       "      <td>一戸建住宅</td>\n",
       "      <td>キーなし</td>\n",
       "      <td>あり</td>\n",
       "      <td>その他</td>\n",
       "    </tr>\n",
       "  </tbody>\n",
       "</table>\n",
       "<p>65 rows × 14 columns</p>\n",
       "</div>"
      ],
      "text/plain": [
       "     罪名      手口 管轄警察署（発生地） 管轄交番・駐在所（発生地）  市区町村コード（発生地） 都道府県（発生地） 市区町村（発生地）   \n",
       "80   窃盗  オートバイ盗          柏          旭町交番        122173       千葉県        柏市  \\\n",
       "81   窃盗  オートバイ盗          柏          旭町交番        122173       千葉県        柏市   \n",
       "82   窃盗  オートバイ盗          柏        大津ヶ丘交番        122173       千葉県        柏市   \n",
       "83   窃盗  オートバイ盗          柏        大津ヶ丘交番        122173       千葉県        柏市   \n",
       "84   窃盗  オートバイ盗          柏        大津ヶ丘交番        122173       千葉県        柏市   \n",
       "..   ..     ...        ...           ...           ...       ...       ...   \n",
       "554  窃盗  オートバイ盗          柏          高柳交番        122173       千葉県        柏市   \n",
       "555  窃盗  オートバイ盗          柏          高柳交番        122173       千葉県        柏市   \n",
       "556  窃盗  オートバイ盗          柏          泉駐在所        122173       千葉県        柏市   \n",
       "557  窃盗  オートバイ盗          柏        藤ヶ谷駐在所        122173       千葉県        柏市   \n",
       "558  窃盗  オートバイ盗          柏        藤ヶ谷駐在所        122173       千葉県        柏市   \n",
       "\n",
       "    町丁目（発生地）   発生年月日（始期） 発生時（始期）              発生場所の属性  施錠関係 盗難防止装置の有無   \n",
       "80   あけぼの３丁目  2017-01-01      00  その他の住宅（３階建て以下共同住宅等）  キーあり        なし  \\\n",
       "81     旭町５丁目  2018-09-18      15                  道路上  キーあり        なし   \n",
       "82   大津ケ丘２丁目  2018-01-15      17           ４階建て以上共同住宅  キーあり        なし   \n",
       "83   大津ケ丘４丁目  2018-05-11      06                  道路上  キーあり        なし   \n",
       "84   大津ケ丘４丁目  2018-10-29      08           ４階建て以上共同住宅  キーあり        なし   \n",
       "..       ...         ...     ...                  ...   ...       ...   \n",
       "554       高柳  2018-06-20      01  その他の住宅（３階建て以下共同住宅等）  キーなし        なし   \n",
       "555       高柳  2018-12-19      20               駐車（輪）場  キーなし        なし   \n",
       "556      鷲野谷  2018-11-03      19                  その他  キーなし        なし   \n",
       "557      藤ケ谷  2016-11-01      00                  その他  キーなし        なし   \n",
       "558      藤ケ谷  2018-01-24      16                一戸建住宅  キーなし        あり   \n",
       "\n",
       "          現金以外の主な被害品  \n",
       "80   原動機付自転車（50cc以下）  \n",
       "81       自動二輪（50cc超）  \n",
       "82                なし  \n",
       "83   原動機付自転車（50cc以下）  \n",
       "84   原動機付自転車（50cc以下）  \n",
       "..               ...  \n",
       "554      自動二輪（50cc超）  \n",
       "555      自動二輪（50cc超）  \n",
       "556      自動二輪（50cc超）  \n",
       "557      自動二輪（50cc超）  \n",
       "558              その他  \n",
       "\n",
       "[65 rows x 14 columns]"
      ]
     },
     "execution_count": 31,
     "metadata": {},
     "output_type": "execute_result"
    }
   ],
   "source": [
    "kashiwadf = df[df['市区町村（発生地）']=='柏市']\n",
    "kashiwadf"
   ]
  },
  {
   "cell_type": "code",
   "execution_count": 32,
   "metadata": {},
   "outputs": [
    {
     "name": "stdout",
     "output_type": "stream",
     "text": [
      "<class 'pandas.core.frame.DataFrame'>\n",
      "Index: 65 entries, 80 to 558\n",
      "Data columns (total 14 columns):\n",
      " #   Column         Non-Null Count  Dtype \n",
      "---  ------         --------------  ----- \n",
      " 0   罪名             65 non-null     object\n",
      " 1   手口             65 non-null     object\n",
      " 2   管轄警察署（発生地）     65 non-null     object\n",
      " 3   管轄交番・駐在所（発生地）  65 non-null     object\n",
      " 4   市区町村コード（発生地）   65 non-null     int64 \n",
      " 5   都道府県（発生地）      65 non-null     object\n",
      " 6   市区町村（発生地）      65 non-null     object\n",
      " 7   町丁目（発生地）       64 non-null     object\n",
      " 8   発生年月日（始期）      65 non-null     object\n",
      " 9   発生時（始期）        65 non-null     object\n",
      " 10  発生場所の属性        65 non-null     object\n",
      " 11  施錠関係           65 non-null     object\n",
      " 12  盗難防止装置の有無      65 non-null     object\n",
      " 13  現金以外の主な被害品     65 non-null     object\n",
      "dtypes: int64(1), object(13)\n",
      "memory usage: 7.6+ KB\n"
     ]
    }
   ],
   "source": [
    "kashiwadf.info()"
   ]
  },
  {
   "cell_type": "code",
   "execution_count": 33,
   "metadata": {},
   "outputs": [],
   "source": [
    "def geocode(address):\n",
    "\n",
    "    # ジオコーティングURL\n",
    "    url = \"https://msearch.gsi.go.jp/address-search/AddressSearch?q=\"\n",
    "\n",
    "    # try/exceptでエラーをキャッチ\n",
    "    # 成功の場合\n",
    "    try:\n",
    "        s_quote = urllib.parse.quote(address)\n",
    "        response = requests.get(url + s_quote)\n",
    "        if len(response.json())>0:\n",
    "            return response.json()[0][\"geometry\"][\"coordinates\"] \n",
    "        else:\n",
    "            return False\n",
    "        \n",
    "    # 失敗の場合\n",
    "    except:\n",
    "        return False"
   ]
  },
  {
   "cell_type": "code",
   "execution_count": 34,
   "metadata": {},
   "outputs": [],
   "source": [
    "kashiwa=kashiwadf "
   ]
  },
  {
   "cell_type": "code",
   "execution_count": 35,
   "metadata": {},
   "outputs": [
    {
     "name": "stderr",
     "output_type": "stream",
     "text": [
      "C:\\Users\\Hibiki\\AppData\\Local\\Temp\\ipykernel_71520\\3993717587.py:2: SettingWithCopyWarning:\n",
      "\n",
      "\n",
      "A value is trying to be set on a copy of a slice from a DataFrame.\n",
      "Try using .loc[row_indexer,col_indexer] = value instead\n",
      "\n",
      "See the caveats in the documentation: https://pandas.pydata.org/pandas-docs/stable/user_guide/indexing.html#returning-a-view-versus-a-copy\n",
      "\n"
     ]
    }
   ],
   "source": [
    "# 空の住所フィールドを作成\n",
    "kashiwa['住所'] = ''"
   ]
  },
  {
   "cell_type": "code",
   "execution_count": 36,
   "metadata": {},
   "outputs": [
    {
     "name": "stderr",
     "output_type": "stream",
     "text": [
      "C:\\Users\\Hibiki\\AppData\\Local\\Temp\\ipykernel_71520\\1046836939.py:2: SettingWithCopyWarning:\n",
      "\n",
      "\n",
      "A value is trying to be set on a copy of a slice from a DataFrame.\n",
      "Try using .loc[row_indexer,col_indexer] = value instead\n",
      "\n",
      "See the caveats in the documentation: https://pandas.pydata.org/pandas-docs/stable/user_guide/indexing.html#returning-a-view-versus-a-copy\n",
      "\n",
      "C:\\Users\\Hibiki\\AppData\\Local\\Temp\\ipykernel_71520\\1046836939.py:3: SettingWithCopyWarning:\n",
      "\n",
      "\n",
      "A value is trying to be set on a copy of a slice from a DataFrame.\n",
      "Try using .loc[row_indexer,col_indexer] = value instead\n",
      "\n",
      "See the caveats in the documentation: https://pandas.pydata.org/pandas-docs/stable/user_guide/indexing.html#returning-a-view-versus-a-copy\n",
      "\n"
     ]
    }
   ],
   "source": [
    "# 空だがfloatとしてフィールドを作成\n",
    "kashiwa['lat'] = pd.Series(dtype=float)\n",
    "kashiwa['lon'] = pd.Series(dtype=float)"
   ]
  },
  {
   "cell_type": "code",
   "execution_count": 37,
   "metadata": {},
   "outputs": [
    {
     "name": "stderr",
     "output_type": "stream",
     "text": [
      "C:\\Users\\Hibiki\\AppData\\Local\\Temp\\ipykernel_71520\\3315948774.py:2: SettingWithCopyWarning:\n",
      "\n",
      "\n",
      "A value is trying to be set on a copy of a slice from a DataFrame.\n",
      "Try using .loc[row_indexer,col_indexer] = value instead\n",
      "\n",
      "See the caveats in the documentation: https://pandas.pydata.org/pandas-docs/stable/user_guide/indexing.html#returning-a-view-versus-a-copy\n",
      "\n"
     ]
    }
   ],
   "source": [
    "# 住所フィールドを作成\n",
    "kashiwa['住所'] = kashiwa['都道府県（発生地）']+kashiwa['市区町村（発生地）']+kashiwa['町丁目（発生地）']"
   ]
  },
  {
   "cell_type": "code",
   "execution_count": 38,
   "metadata": {},
   "outputs": [
    {
     "data": {
      "text/html": [
       "<div>\n",
       "<style scoped>\n",
       "    .dataframe tbody tr th:only-of-type {\n",
       "        vertical-align: middle;\n",
       "    }\n",
       "\n",
       "    .dataframe tbody tr th {\n",
       "        vertical-align: top;\n",
       "    }\n",
       "\n",
       "    .dataframe thead th {\n",
       "        text-align: right;\n",
       "    }\n",
       "</style>\n",
       "<table border=\"1\" class=\"dataframe\">\n",
       "  <thead>\n",
       "    <tr style=\"text-align: right;\">\n",
       "      <th></th>\n",
       "      <th>罪名</th>\n",
       "      <th>手口</th>\n",
       "      <th>管轄警察署（発生地）</th>\n",
       "      <th>管轄交番・駐在所（発生地）</th>\n",
       "      <th>市区町村コード（発生地）</th>\n",
       "      <th>都道府県（発生地）</th>\n",
       "      <th>市区町村（発生地）</th>\n",
       "      <th>町丁目（発生地）</th>\n",
       "      <th>発生年月日（始期）</th>\n",
       "      <th>発生時（始期）</th>\n",
       "      <th>発生場所の属性</th>\n",
       "      <th>施錠関係</th>\n",
       "      <th>盗難防止装置の有無</th>\n",
       "      <th>現金以外の主な被害品</th>\n",
       "      <th>住所</th>\n",
       "      <th>lat</th>\n",
       "      <th>lon</th>\n",
       "    </tr>\n",
       "  </thead>\n",
       "  <tbody>\n",
       "    <tr>\n",
       "      <th>80</th>\n",
       "      <td>窃盗</td>\n",
       "      <td>オートバイ盗</td>\n",
       "      <td>柏</td>\n",
       "      <td>旭町交番</td>\n",
       "      <td>122173</td>\n",
       "      <td>千葉県</td>\n",
       "      <td>柏市</td>\n",
       "      <td>あけぼの３丁目</td>\n",
       "      <td>2017-01-01</td>\n",
       "      <td>00</td>\n",
       "      <td>その他の住宅（３階建て以下共同住宅等）</td>\n",
       "      <td>キーあり</td>\n",
       "      <td>なし</td>\n",
       "      <td>原動機付自転車（50cc以下）</td>\n",
       "      <td>千葉県柏市あけぼの３丁目</td>\n",
       "      <td>NaN</td>\n",
       "      <td>NaN</td>\n",
       "    </tr>\n",
       "    <tr>\n",
       "      <th>81</th>\n",
       "      <td>窃盗</td>\n",
       "      <td>オートバイ盗</td>\n",
       "      <td>柏</td>\n",
       "      <td>旭町交番</td>\n",
       "      <td>122173</td>\n",
       "      <td>千葉県</td>\n",
       "      <td>柏市</td>\n",
       "      <td>旭町５丁目</td>\n",
       "      <td>2018-09-18</td>\n",
       "      <td>15</td>\n",
       "      <td>道路上</td>\n",
       "      <td>キーあり</td>\n",
       "      <td>なし</td>\n",
       "      <td>自動二輪（50cc超）</td>\n",
       "      <td>千葉県柏市旭町５丁目</td>\n",
       "      <td>NaN</td>\n",
       "      <td>NaN</td>\n",
       "    </tr>\n",
       "    <tr>\n",
       "      <th>82</th>\n",
       "      <td>窃盗</td>\n",
       "      <td>オートバイ盗</td>\n",
       "      <td>柏</td>\n",
       "      <td>大津ヶ丘交番</td>\n",
       "      <td>122173</td>\n",
       "      <td>千葉県</td>\n",
       "      <td>柏市</td>\n",
       "      <td>大津ケ丘２丁目</td>\n",
       "      <td>2018-01-15</td>\n",
       "      <td>17</td>\n",
       "      <td>４階建て以上共同住宅</td>\n",
       "      <td>キーあり</td>\n",
       "      <td>なし</td>\n",
       "      <td>なし</td>\n",
       "      <td>千葉県柏市大津ケ丘２丁目</td>\n",
       "      <td>NaN</td>\n",
       "      <td>NaN</td>\n",
       "    </tr>\n",
       "    <tr>\n",
       "      <th>83</th>\n",
       "      <td>窃盗</td>\n",
       "      <td>オートバイ盗</td>\n",
       "      <td>柏</td>\n",
       "      <td>大津ヶ丘交番</td>\n",
       "      <td>122173</td>\n",
       "      <td>千葉県</td>\n",
       "      <td>柏市</td>\n",
       "      <td>大津ケ丘４丁目</td>\n",
       "      <td>2018-05-11</td>\n",
       "      <td>06</td>\n",
       "      <td>道路上</td>\n",
       "      <td>キーあり</td>\n",
       "      <td>なし</td>\n",
       "      <td>原動機付自転車（50cc以下）</td>\n",
       "      <td>千葉県柏市大津ケ丘４丁目</td>\n",
       "      <td>NaN</td>\n",
       "      <td>NaN</td>\n",
       "    </tr>\n",
       "    <tr>\n",
       "      <th>84</th>\n",
       "      <td>窃盗</td>\n",
       "      <td>オートバイ盗</td>\n",
       "      <td>柏</td>\n",
       "      <td>大津ヶ丘交番</td>\n",
       "      <td>122173</td>\n",
       "      <td>千葉県</td>\n",
       "      <td>柏市</td>\n",
       "      <td>大津ケ丘４丁目</td>\n",
       "      <td>2018-10-29</td>\n",
       "      <td>08</td>\n",
       "      <td>４階建て以上共同住宅</td>\n",
       "      <td>キーあり</td>\n",
       "      <td>なし</td>\n",
       "      <td>原動機付自転車（50cc以下）</td>\n",
       "      <td>千葉県柏市大津ケ丘４丁目</td>\n",
       "      <td>NaN</td>\n",
       "      <td>NaN</td>\n",
       "    </tr>\n",
       "    <tr>\n",
       "      <th>...</th>\n",
       "      <td>...</td>\n",
       "      <td>...</td>\n",
       "      <td>...</td>\n",
       "      <td>...</td>\n",
       "      <td>...</td>\n",
       "      <td>...</td>\n",
       "      <td>...</td>\n",
       "      <td>...</td>\n",
       "      <td>...</td>\n",
       "      <td>...</td>\n",
       "      <td>...</td>\n",
       "      <td>...</td>\n",
       "      <td>...</td>\n",
       "      <td>...</td>\n",
       "      <td>...</td>\n",
       "      <td>...</td>\n",
       "      <td>...</td>\n",
       "    </tr>\n",
       "    <tr>\n",
       "      <th>554</th>\n",
       "      <td>窃盗</td>\n",
       "      <td>オートバイ盗</td>\n",
       "      <td>柏</td>\n",
       "      <td>高柳交番</td>\n",
       "      <td>122173</td>\n",
       "      <td>千葉県</td>\n",
       "      <td>柏市</td>\n",
       "      <td>高柳</td>\n",
       "      <td>2018-06-20</td>\n",
       "      <td>01</td>\n",
       "      <td>その他の住宅（３階建て以下共同住宅等）</td>\n",
       "      <td>キーなし</td>\n",
       "      <td>なし</td>\n",
       "      <td>自動二輪（50cc超）</td>\n",
       "      <td>千葉県柏市高柳</td>\n",
       "      <td>NaN</td>\n",
       "      <td>NaN</td>\n",
       "    </tr>\n",
       "    <tr>\n",
       "      <th>555</th>\n",
       "      <td>窃盗</td>\n",
       "      <td>オートバイ盗</td>\n",
       "      <td>柏</td>\n",
       "      <td>高柳交番</td>\n",
       "      <td>122173</td>\n",
       "      <td>千葉県</td>\n",
       "      <td>柏市</td>\n",
       "      <td>高柳</td>\n",
       "      <td>2018-12-19</td>\n",
       "      <td>20</td>\n",
       "      <td>駐車（輪）場</td>\n",
       "      <td>キーなし</td>\n",
       "      <td>なし</td>\n",
       "      <td>自動二輪（50cc超）</td>\n",
       "      <td>千葉県柏市高柳</td>\n",
       "      <td>NaN</td>\n",
       "      <td>NaN</td>\n",
       "    </tr>\n",
       "    <tr>\n",
       "      <th>556</th>\n",
       "      <td>窃盗</td>\n",
       "      <td>オートバイ盗</td>\n",
       "      <td>柏</td>\n",
       "      <td>泉駐在所</td>\n",
       "      <td>122173</td>\n",
       "      <td>千葉県</td>\n",
       "      <td>柏市</td>\n",
       "      <td>鷲野谷</td>\n",
       "      <td>2018-11-03</td>\n",
       "      <td>19</td>\n",
       "      <td>その他</td>\n",
       "      <td>キーなし</td>\n",
       "      <td>なし</td>\n",
       "      <td>自動二輪（50cc超）</td>\n",
       "      <td>千葉県柏市鷲野谷</td>\n",
       "      <td>NaN</td>\n",
       "      <td>NaN</td>\n",
       "    </tr>\n",
       "    <tr>\n",
       "      <th>557</th>\n",
       "      <td>窃盗</td>\n",
       "      <td>オートバイ盗</td>\n",
       "      <td>柏</td>\n",
       "      <td>藤ヶ谷駐在所</td>\n",
       "      <td>122173</td>\n",
       "      <td>千葉県</td>\n",
       "      <td>柏市</td>\n",
       "      <td>藤ケ谷</td>\n",
       "      <td>2016-11-01</td>\n",
       "      <td>00</td>\n",
       "      <td>その他</td>\n",
       "      <td>キーなし</td>\n",
       "      <td>なし</td>\n",
       "      <td>自動二輪（50cc超）</td>\n",
       "      <td>千葉県柏市藤ケ谷</td>\n",
       "      <td>NaN</td>\n",
       "      <td>NaN</td>\n",
       "    </tr>\n",
       "    <tr>\n",
       "      <th>558</th>\n",
       "      <td>窃盗</td>\n",
       "      <td>オートバイ盗</td>\n",
       "      <td>柏</td>\n",
       "      <td>藤ヶ谷駐在所</td>\n",
       "      <td>122173</td>\n",
       "      <td>千葉県</td>\n",
       "      <td>柏市</td>\n",
       "      <td>藤ケ谷</td>\n",
       "      <td>2018-01-24</td>\n",
       "      <td>16</td>\n",
       "      <td>一戸建住宅</td>\n",
       "      <td>キーなし</td>\n",
       "      <td>あり</td>\n",
       "      <td>その他</td>\n",
       "      <td>千葉県柏市藤ケ谷</td>\n",
       "      <td>NaN</td>\n",
       "      <td>NaN</td>\n",
       "    </tr>\n",
       "  </tbody>\n",
       "</table>\n",
       "<p>65 rows × 17 columns</p>\n",
       "</div>"
      ],
      "text/plain": [
       "     罪名      手口 管轄警察署（発生地） 管轄交番・駐在所（発生地）  市区町村コード（発生地） 都道府県（発生地） 市区町村（発生地）   \n",
       "80   窃盗  オートバイ盗          柏          旭町交番        122173       千葉県        柏市  \\\n",
       "81   窃盗  オートバイ盗          柏          旭町交番        122173       千葉県        柏市   \n",
       "82   窃盗  オートバイ盗          柏        大津ヶ丘交番        122173       千葉県        柏市   \n",
       "83   窃盗  オートバイ盗          柏        大津ヶ丘交番        122173       千葉県        柏市   \n",
       "84   窃盗  オートバイ盗          柏        大津ヶ丘交番        122173       千葉県        柏市   \n",
       "..   ..     ...        ...           ...           ...       ...       ...   \n",
       "554  窃盗  オートバイ盗          柏          高柳交番        122173       千葉県        柏市   \n",
       "555  窃盗  オートバイ盗          柏          高柳交番        122173       千葉県        柏市   \n",
       "556  窃盗  オートバイ盗          柏          泉駐在所        122173       千葉県        柏市   \n",
       "557  窃盗  オートバイ盗          柏        藤ヶ谷駐在所        122173       千葉県        柏市   \n",
       "558  窃盗  オートバイ盗          柏        藤ヶ谷駐在所        122173       千葉県        柏市   \n",
       "\n",
       "    町丁目（発生地）   発生年月日（始期） 発生時（始期）              発生場所の属性  施錠関係 盗難防止装置の有無   \n",
       "80   あけぼの３丁目  2017-01-01      00  その他の住宅（３階建て以下共同住宅等）  キーあり        なし  \\\n",
       "81     旭町５丁目  2018-09-18      15                  道路上  キーあり        なし   \n",
       "82   大津ケ丘２丁目  2018-01-15      17           ４階建て以上共同住宅  キーあり        なし   \n",
       "83   大津ケ丘４丁目  2018-05-11      06                  道路上  キーあり        なし   \n",
       "84   大津ケ丘４丁目  2018-10-29      08           ４階建て以上共同住宅  キーあり        なし   \n",
       "..       ...         ...     ...                  ...   ...       ...   \n",
       "554       高柳  2018-06-20      01  その他の住宅（３階建て以下共同住宅等）  キーなし        なし   \n",
       "555       高柳  2018-12-19      20               駐車（輪）場  キーなし        なし   \n",
       "556      鷲野谷  2018-11-03      19                  その他  キーなし        なし   \n",
       "557      藤ケ谷  2016-11-01      00                  その他  キーなし        なし   \n",
       "558      藤ケ谷  2018-01-24      16                一戸建住宅  キーなし        あり   \n",
       "\n",
       "          現金以外の主な被害品            住所  lat  lon  \n",
       "80   原動機付自転車（50cc以下）  千葉県柏市あけぼの３丁目  NaN  NaN  \n",
       "81       自動二輪（50cc超）    千葉県柏市旭町５丁目  NaN  NaN  \n",
       "82                なし  千葉県柏市大津ケ丘２丁目  NaN  NaN  \n",
       "83   原動機付自転車（50cc以下）  千葉県柏市大津ケ丘４丁目  NaN  NaN  \n",
       "84   原動機付自転車（50cc以下）  千葉県柏市大津ケ丘４丁目  NaN  NaN  \n",
       "..               ...           ...  ...  ...  \n",
       "554      自動二輪（50cc超）       千葉県柏市高柳  NaN  NaN  \n",
       "555      自動二輪（50cc超）       千葉県柏市高柳  NaN  NaN  \n",
       "556      自動二輪（50cc超）      千葉県柏市鷲野谷  NaN  NaN  \n",
       "557      自動二輪（50cc超）      千葉県柏市藤ケ谷  NaN  NaN  \n",
       "558              その他      千葉県柏市藤ケ谷  NaN  NaN  \n",
       "\n",
       "[65 rows x 17 columns]"
      ]
     },
     "execution_count": 38,
     "metadata": {},
     "output_type": "execute_result"
    }
   ],
   "source": [
    "kashiwa"
   ]
  },
  {
   "cell_type": "code",
   "execution_count": 39,
   "metadata": {},
   "outputs": [
    {
     "name": "stdout",
     "output_type": "stream",
     "text": [
      "千葉県柏市あけぼの３丁目 139.971756 35.869129\n",
      "千葉県柏市旭町５丁目 139.962128 35.85675\n",
      "千葉県柏市大津ケ丘２丁目 139.999237 35.841068\n",
      "千葉県柏市大津ケ丘４丁目 140.002502 35.837143\n",
      "千葉県柏市大津ケ丘４丁目 140.002502 35.837143\n",
      "千葉県柏市泉町 139.967957 35.856449\n",
      "千葉県柏市柏 139.986511 35.864445\n",
      "千葉県柏市柏４丁目 139.974228 35.863529\n",
      "千葉県柏市中央１丁目 139.972931 35.857903\n",
      "千葉県柏市中央町 139.970566 35.859303\n",
      "千葉県柏市根戸 139.98645 35.88113\n",
      "千葉県柏市豊四季 139.949814 35.859928\n",
      "千葉県柏市増尾台４丁目 139.973206 35.821732\n",
      "千葉県柏市篠籠田 139.943359 35.868122\n",
      "千葉県柏市東柏２丁目 139.987366 35.849293\n",
      "千葉県柏市豊四季 139.949814 35.859928\n",
      "千葉県柏市南増尾 139.974075 35.816387\n",
      "千葉県柏市南逆井４丁目 139.974625 35.803249\n",
      "千葉県柏市柏の葉３丁目 139.936203 35.891537\n",
      "千葉県柏市藤ケ谷 140.021378 35.80233\n",
      "千葉県柏市明原３丁目 ジオコーティング失敗\n",
      "千葉県柏市豊四季台４丁目 139.956039 35.863903\n",
      "千葉県柏市豊四季台４丁目 139.956039 35.863903\n",
      "千葉県柏市西町 139.957932 35.869198\n",
      "千葉県柏市塚崎 139.996063 35.834927\n",
      "千葉県柏市塚崎 139.996063 35.834927\n",
      "千葉県柏市塚崎 139.996063 35.834927\n",
      "千葉県柏市塚崎２丁目 140.00264 35.833794\n",
      "千葉県柏市緑台 140.008148 35.846344\n",
      "千葉県柏市手賀の杜３丁目 140.026993 35.846394\n",
      "千葉県柏市手賀の杜３丁目 140.026993 35.846394\n",
      "千葉県柏市柏１丁目 139.97142 35.861809\n",
      "千葉県柏市柏１丁目 139.97142 35.861809\n",
      "千葉県柏市柏２丁目 139.973999 35.861694\n",
      "千葉県柏市南逆井１丁目 139.970367 35.807571\n",
      "千葉県柏市北柏３丁目 139.987793 35.872192\n",
      "千葉県柏市高田 139.949219 35.877697\n",
      "千葉県柏市十余二 139.959305 35.882629\n",
      "千葉県柏市篠籠田 139.943359 35.868122\n",
      "千葉県柏市篠籠田 139.943359 35.868122\n",
      "千葉県柏市大室 139.961746 35.911968\n",
      "千葉県柏市大室３丁目 139.961746 35.911968\n",
      "千葉県柏市酒井根５丁目 139.961349 35.824585\n",
      "千葉県柏市酒井根６丁目 139.957443 35.823711\n",
      "千葉県柏市光ケ丘４丁目 139.964218 35.828148\n",
      "千葉県柏市東山１丁目 139.955688 35.824898\n",
      "千葉県柏市東山２丁目 139.952393 35.825123\n",
      "千葉県柏市東山２丁目 139.952393 35.825123\n",
      "千葉県柏市松葉町５丁目 139.966446 35.889473\n",
      "千葉県柏市東２丁目 139.981491 35.856987\n",
      "千葉県柏市千代田１丁目 139.976288 35.856525\n",
      "千葉県柏市若葉町 139.971054 35.85392\n",
      "千葉県柏市逆井２丁目 139.979614 35.824383\n",
      "nan ジオコーティング失敗\n",
      "千葉県柏市南逆井４丁目 139.974625 35.803249\n",
      "千葉県柏市南逆井６丁目 139.977905 35.805508\n",
      "千葉県柏市新逆井１丁目 139.972183 35.812092\n",
      "千葉県柏市高南台３丁目 139.993011 35.805519\n",
      "千葉県柏市しいの木台３丁目 139.980179 35.801025\n",
      "千葉県柏市高柳 139.99794 35.8078\n",
      "千葉県柏市高柳 139.99794 35.8078\n",
      "千葉県柏市高柳 139.99794 35.8078\n",
      "千葉県柏市鷲野谷 140.038834 35.842888\n",
      "千葉県柏市藤ケ谷 140.021378 35.80233\n",
      "千葉県柏市藤ケ谷 140.021378 35.80233\n"
     ]
    }
   ],
   "source": [
    "# kashiwaデータフレームをループ\n",
    "for i,row in kashiwa.iterrows():\n",
    "\n",
    "    # ジオコーティング成功\n",
    "    if geocode(row['住所']) != False:\n",
    "        # 座標を変数に\n",
    "        lon = geocode(row['住所'])[0]\n",
    "        lat = geocode(row['住所'])[1]\n",
    "\n",
    "        # データフレームに値をインプット        \n",
    "        kashiwa.loc[i,'lon'] = lon\n",
    "        kashiwa.loc[i,'lat'] = lat\n",
    "\n",
    "        # 結果をprint\n",
    "        print(row['住所'],lon,lat)\n",
    "    \n",
    "    # ジオコーティング失敗\n",
    "    else:\n",
    "        print(row['住所'],'ジオコーティング失敗')\n",
    "        continue"
   ]
  },
  {
   "cell_type": "code",
   "execution_count": 46,
   "metadata": {},
   "outputs": [
    {
     "name": "stdout",
     "output_type": "stream",
     "text": [
      "<class 'pandas.core.frame.DataFrame'>\n",
      "Index: 65 entries, 80 to 558\n",
      "Data columns (total 17 columns):\n",
      " #   Column         Non-Null Count  Dtype  \n",
      "---  ------         --------------  -----  \n",
      " 0   罪名             65 non-null     object \n",
      " 1   手口             65 non-null     object \n",
      " 2   管轄警察署（発生地）     65 non-null     object \n",
      " 3   管轄交番・駐在所（発生地）  65 non-null     object \n",
      " 4   市区町村コード（発生地）   65 non-null     int64  \n",
      " 5   都道府県（発生地）      65 non-null     object \n",
      " 6   市区町村（発生地）      65 non-null     object \n",
      " 7   町丁目（発生地）       64 non-null     object \n",
      " 8   発生年月日（始期）      65 non-null     object \n",
      " 9   発生時（始期）        65 non-null     object \n",
      " 10  発生場所の属性        65 non-null     object \n",
      " 11  施錠関係           65 non-null     object \n",
      " 12  盗難防止装置の有無      65 non-null     object \n",
      " 13  現金以外の主な被害品     65 non-null     object \n",
      " 14  住所             64 non-null     object \n",
      " 15  lat            63 non-null     float64\n",
      " 16  lon            63 non-null     float64\n",
      "dtypes: float64(2), int64(1), object(14)\n",
      "memory usage: 11.2+ KB\n"
     ]
    }
   ],
   "source": [
    "kashiwa.info()"
   ]
  },
  {
   "cell_type": "code",
   "execution_count": 51,
   "metadata": {},
   "outputs": [],
   "source": [
    "kashiwa=kashiwa.dropna(subset=['lat'])"
   ]
  },
  {
   "cell_type": "code",
   "execution_count": 53,
   "metadata": {},
   "outputs": [
    {
     "name": "stdout",
     "output_type": "stream",
     "text": [
      "<class 'pandas.core.frame.DataFrame'>\n",
      "Index: 63 entries, 80 to 558\n",
      "Data columns (total 17 columns):\n",
      " #   Column         Non-Null Count  Dtype  \n",
      "---  ------         --------------  -----  \n",
      " 0   罪名             63 non-null     object \n",
      " 1   手口             63 non-null     object \n",
      " 2   管轄警察署（発生地）     63 non-null     object \n",
      " 3   管轄交番・駐在所（発生地）  63 non-null     object \n",
      " 4   市区町村コード（発生地）   63 non-null     int64  \n",
      " 5   都道府県（発生地）      63 non-null     object \n",
      " 6   市区町村（発生地）      63 non-null     object \n",
      " 7   町丁目（発生地）       63 non-null     object \n",
      " 8   発生年月日（始期）      63 non-null     object \n",
      " 9   発生時（始期）        63 non-null     object \n",
      " 10  発生場所の属性        63 non-null     object \n",
      " 11  施錠関係           63 non-null     object \n",
      " 12  盗難防止装置の有無      63 non-null     object \n",
      " 13  現金以外の主な被害品     63 non-null     object \n",
      " 14  住所             63 non-null     object \n",
      " 15  lat            63 non-null     float64\n",
      " 16  lon            63 non-null     float64\n",
      "dtypes: float64(2), int64(1), object(14)\n",
      "memory usage: 8.9+ KB\n"
     ]
    }
   ],
   "source": [
    "kashiwa.info()"
   ]
  },
  {
   "cell_type": "code",
   "execution_count": 52,
   "metadata": {},
   "outputs": [
    {
     "data": {
      "application/vnd.plotly.v1+json": {
       "config": {
        "plotlyServerURL": "https://plot.ly"
       },
       "data": [
        {
         "alignmentgroup": "True",
         "hovertemplate": "現金以外の主な被害品=原動機付自転車（50cc以下）<br>発生時（始期）=%{x}<br>count=%{y}<extra></extra>",
         "legendgroup": "原動機付自転車（50cc以下）",
         "marker": {
          "color": "rgb(76,114,176)",
          "line": {
           "width": 0
          },
          "pattern": {
           "shape": ""
          }
         },
         "name": "原動機付自転車（50cc以下）",
         "offsetgroup": "原動機付自転車（50cc以下）",
         "orientation": "v",
         "showlegend": true,
         "textposition": "auto",
         "type": "bar",
         "x": [
          "00",
          "06",
          "08",
          "18",
          "13",
          "17",
          "22",
          "06",
          "21",
          "18",
          "16",
          "16",
          "15",
          "23",
          "21",
          "22",
          "05",
          "19",
          "18",
          "14",
          "14",
          "11",
          "20",
          "20",
          "22",
          "08",
          "18",
          "20",
          "19",
          "19"
         ],
         "xaxis": "x",
         "y": [
          1,
          1,
          1,
          1,
          1,
          1,
          1,
          1,
          1,
          1,
          1,
          1,
          1,
          1,
          1,
          1,
          1,
          1,
          1,
          1,
          1,
          1,
          1,
          1,
          1,
          1,
          1,
          1,
          1,
          1
         ],
         "yaxis": "y"
        },
        {
         "alignmentgroup": "True",
         "hovertemplate": "現金以外の主な被害品=自動二輪（50cc超）<br>発生時（始期）=%{x}<br>count=%{y}<extra></extra>",
         "legendgroup": "自動二輪（50cc超）",
         "marker": {
          "color": "rgb(221,132,82)",
          "line": {
           "width": 0
          },
          "pattern": {
           "shape": ""
          }
         },
         "name": "自動二輪（50cc超）",
         "offsetgroup": "自動二輪（50cc超）",
         "orientation": "v",
         "showlegend": true,
         "textposition": "auto",
         "type": "bar",
         "x": [
          "15",
          "06",
          "20",
          "07",
          "18",
          "21",
          "22",
          "01",
          "08",
          "11",
          "20",
          "13",
          "08",
          "22",
          "21",
          "23",
          "10",
          "20",
          "18",
          "不明",
          "16",
          "16",
          "02",
          "06",
          "16",
          "20",
          "01",
          "20",
          "19",
          "00"
         ],
         "xaxis": "x",
         "y": [
          1,
          1,
          1,
          1,
          1,
          1,
          1,
          1,
          1,
          1,
          1,
          1,
          1,
          1,
          1,
          1,
          1,
          1,
          1,
          1,
          1,
          1,
          1,
          1,
          1,
          1,
          1,
          1,
          1,
          1
         ],
         "yaxis": "y"
        },
        {
         "alignmentgroup": "True",
         "hovertemplate": "現金以外の主な被害品=なし<br>発生時（始期）=%{x}<br>count=%{y}<extra></extra>",
         "legendgroup": "なし",
         "marker": {
          "color": "rgb(85,168,104)",
          "line": {
           "width": 0
          },
          "pattern": {
           "shape": ""
          }
         },
         "name": "なし",
         "offsetgroup": "なし",
         "orientation": "v",
         "showlegend": true,
         "textposition": "auto",
         "type": "bar",
         "x": [
          "17"
         ],
         "xaxis": "x",
         "y": [
          1
         ],
         "yaxis": "y"
        },
        {
         "alignmentgroup": "True",
         "hovertemplate": "現金以外の主な被害品=その他<br>発生時（始期）=%{x}<br>count=%{y}<extra></extra>",
         "legendgroup": "その他",
         "marker": {
          "color": "rgb(196,78,82)",
          "line": {
           "width": 0
          },
          "pattern": {
           "shape": ""
          }
         },
         "name": "その他",
         "offsetgroup": "その他",
         "orientation": "v",
         "showlegend": true,
         "textposition": "auto",
         "type": "bar",
         "x": [
          "21",
          "16"
         ],
         "xaxis": "x",
         "y": [
          1,
          1
         ],
         "yaxis": "y"
        }
       ],
       "layout": {
        "barmode": "relative",
        "legend": {
         "title": {
          "text": "現金以外の主な被害品"
         },
         "tracegroupgap": 0
        },
        "margin": {
         "t": 60
        },
        "template": {
         "data": {
          "bar": [
           {
            "error_x": {
             "color": "rgb(36,36,36)"
            },
            "error_y": {
             "color": "rgb(36,36,36)"
            },
            "marker": {
             "line": {
              "color": "rgb(234,234,242)",
              "width": 0.5
             },
             "pattern": {
              "fillmode": "overlay",
              "size": 10,
              "solidity": 0.2
             }
            },
            "type": "bar"
           }
          ],
          "barpolar": [
           {
            "marker": {
             "line": {
              "color": "rgb(234,234,242)",
              "width": 0.5
             },
             "pattern": {
              "fillmode": "overlay",
              "size": 10,
              "solidity": 0.2
             }
            },
            "type": "barpolar"
           }
          ],
          "carpet": [
           {
            "aaxis": {
             "endlinecolor": "rgb(36,36,36)",
             "gridcolor": "white",
             "linecolor": "white",
             "minorgridcolor": "white",
             "startlinecolor": "rgb(36,36,36)"
            },
            "baxis": {
             "endlinecolor": "rgb(36,36,36)",
             "gridcolor": "white",
             "linecolor": "white",
             "minorgridcolor": "white",
             "startlinecolor": "rgb(36,36,36)"
            },
            "type": "carpet"
           }
          ],
          "choropleth": [
           {
            "colorbar": {
             "outlinewidth": 0,
             "tickcolor": "rgb(36,36,36)",
             "ticklen": 8,
             "ticks": "outside",
             "tickwidth": 2
            },
            "type": "choropleth"
           }
          ],
          "contour": [
           {
            "colorbar": {
             "outlinewidth": 0,
             "tickcolor": "rgb(36,36,36)",
             "ticklen": 8,
             "ticks": "outside",
             "tickwidth": 2
            },
            "colorscale": [
             [
              0,
              "rgb(2,4,25)"
             ],
             [
              0.06274509803921569,
              "rgb(24,15,41)"
             ],
             [
              0.12549019607843137,
              "rgb(47,23,57)"
             ],
             [
              0.18823529411764706,
              "rgb(71,28,72)"
             ],
             [
              0.25098039215686274,
              "rgb(97,30,82)"
             ],
             [
              0.3137254901960784,
              "rgb(123,30,89)"
             ],
             [
              0.3764705882352941,
              "rgb(150,27,91)"
             ],
             [
              0.4392156862745098,
              "rgb(177,22,88)"
             ],
             [
              0.5019607843137255,
              "rgb(203,26,79)"
             ],
             [
              0.5647058823529412,
              "rgb(223,47,67)"
             ],
             [
              0.6274509803921569,
              "rgb(236,76,61)"
             ],
             [
              0.6901960784313725,
              "rgb(242,107,73)"
             ],
             [
              0.7529411764705882,
              "rgb(244,135,95)"
             ],
             [
              0.8156862745098039,
              "rgb(245,162,122)"
             ],
             [
              0.8784313725490196,
              "rgb(246,188,153)"
             ],
             [
              0.9411764705882353,
              "rgb(247,212,187)"
             ],
             [
              1,
              "rgb(250,234,220)"
             ]
            ],
            "type": "contour"
           }
          ],
          "contourcarpet": [
           {
            "colorbar": {
             "outlinewidth": 0,
             "tickcolor": "rgb(36,36,36)",
             "ticklen": 8,
             "ticks": "outside",
             "tickwidth": 2
            },
            "type": "contourcarpet"
           }
          ],
          "heatmap": [
           {
            "colorbar": {
             "outlinewidth": 0,
             "tickcolor": "rgb(36,36,36)",
             "ticklen": 8,
             "ticks": "outside",
             "tickwidth": 2
            },
            "colorscale": [
             [
              0,
              "rgb(2,4,25)"
             ],
             [
              0.06274509803921569,
              "rgb(24,15,41)"
             ],
             [
              0.12549019607843137,
              "rgb(47,23,57)"
             ],
             [
              0.18823529411764706,
              "rgb(71,28,72)"
             ],
             [
              0.25098039215686274,
              "rgb(97,30,82)"
             ],
             [
              0.3137254901960784,
              "rgb(123,30,89)"
             ],
             [
              0.3764705882352941,
              "rgb(150,27,91)"
             ],
             [
              0.4392156862745098,
              "rgb(177,22,88)"
             ],
             [
              0.5019607843137255,
              "rgb(203,26,79)"
             ],
             [
              0.5647058823529412,
              "rgb(223,47,67)"
             ],
             [
              0.6274509803921569,
              "rgb(236,76,61)"
             ],
             [
              0.6901960784313725,
              "rgb(242,107,73)"
             ],
             [
              0.7529411764705882,
              "rgb(244,135,95)"
             ],
             [
              0.8156862745098039,
              "rgb(245,162,122)"
             ],
             [
              0.8784313725490196,
              "rgb(246,188,153)"
             ],
             [
              0.9411764705882353,
              "rgb(247,212,187)"
             ],
             [
              1,
              "rgb(250,234,220)"
             ]
            ],
            "type": "heatmap"
           }
          ],
          "heatmapgl": [
           {
            "colorbar": {
             "outlinewidth": 0,
             "tickcolor": "rgb(36,36,36)",
             "ticklen": 8,
             "ticks": "outside",
             "tickwidth": 2
            },
            "colorscale": [
             [
              0,
              "rgb(2,4,25)"
             ],
             [
              0.06274509803921569,
              "rgb(24,15,41)"
             ],
             [
              0.12549019607843137,
              "rgb(47,23,57)"
             ],
             [
              0.18823529411764706,
              "rgb(71,28,72)"
             ],
             [
              0.25098039215686274,
              "rgb(97,30,82)"
             ],
             [
              0.3137254901960784,
              "rgb(123,30,89)"
             ],
             [
              0.3764705882352941,
              "rgb(150,27,91)"
             ],
             [
              0.4392156862745098,
              "rgb(177,22,88)"
             ],
             [
              0.5019607843137255,
              "rgb(203,26,79)"
             ],
             [
              0.5647058823529412,
              "rgb(223,47,67)"
             ],
             [
              0.6274509803921569,
              "rgb(236,76,61)"
             ],
             [
              0.6901960784313725,
              "rgb(242,107,73)"
             ],
             [
              0.7529411764705882,
              "rgb(244,135,95)"
             ],
             [
              0.8156862745098039,
              "rgb(245,162,122)"
             ],
             [
              0.8784313725490196,
              "rgb(246,188,153)"
             ],
             [
              0.9411764705882353,
              "rgb(247,212,187)"
             ],
             [
              1,
              "rgb(250,234,220)"
             ]
            ],
            "type": "heatmapgl"
           }
          ],
          "histogram": [
           {
            "marker": {
             "pattern": {
              "fillmode": "overlay",
              "size": 10,
              "solidity": 0.2
             }
            },
            "type": "histogram"
           }
          ],
          "histogram2d": [
           {
            "colorbar": {
             "outlinewidth": 0,
             "tickcolor": "rgb(36,36,36)",
             "ticklen": 8,
             "ticks": "outside",
             "tickwidth": 2
            },
            "colorscale": [
             [
              0,
              "rgb(2,4,25)"
             ],
             [
              0.06274509803921569,
              "rgb(24,15,41)"
             ],
             [
              0.12549019607843137,
              "rgb(47,23,57)"
             ],
             [
              0.18823529411764706,
              "rgb(71,28,72)"
             ],
             [
              0.25098039215686274,
              "rgb(97,30,82)"
             ],
             [
              0.3137254901960784,
              "rgb(123,30,89)"
             ],
             [
              0.3764705882352941,
              "rgb(150,27,91)"
             ],
             [
              0.4392156862745098,
              "rgb(177,22,88)"
             ],
             [
              0.5019607843137255,
              "rgb(203,26,79)"
             ],
             [
              0.5647058823529412,
              "rgb(223,47,67)"
             ],
             [
              0.6274509803921569,
              "rgb(236,76,61)"
             ],
             [
              0.6901960784313725,
              "rgb(242,107,73)"
             ],
             [
              0.7529411764705882,
              "rgb(244,135,95)"
             ],
             [
              0.8156862745098039,
              "rgb(245,162,122)"
             ],
             [
              0.8784313725490196,
              "rgb(246,188,153)"
             ],
             [
              0.9411764705882353,
              "rgb(247,212,187)"
             ],
             [
              1,
              "rgb(250,234,220)"
             ]
            ],
            "type": "histogram2d"
           }
          ],
          "histogram2dcontour": [
           {
            "colorbar": {
             "outlinewidth": 0,
             "tickcolor": "rgb(36,36,36)",
             "ticklen": 8,
             "ticks": "outside",
             "tickwidth": 2
            },
            "colorscale": [
             [
              0,
              "rgb(2,4,25)"
             ],
             [
              0.06274509803921569,
              "rgb(24,15,41)"
             ],
             [
              0.12549019607843137,
              "rgb(47,23,57)"
             ],
             [
              0.18823529411764706,
              "rgb(71,28,72)"
             ],
             [
              0.25098039215686274,
              "rgb(97,30,82)"
             ],
             [
              0.3137254901960784,
              "rgb(123,30,89)"
             ],
             [
              0.3764705882352941,
              "rgb(150,27,91)"
             ],
             [
              0.4392156862745098,
              "rgb(177,22,88)"
             ],
             [
              0.5019607843137255,
              "rgb(203,26,79)"
             ],
             [
              0.5647058823529412,
              "rgb(223,47,67)"
             ],
             [
              0.6274509803921569,
              "rgb(236,76,61)"
             ],
             [
              0.6901960784313725,
              "rgb(242,107,73)"
             ],
             [
              0.7529411764705882,
              "rgb(244,135,95)"
             ],
             [
              0.8156862745098039,
              "rgb(245,162,122)"
             ],
             [
              0.8784313725490196,
              "rgb(246,188,153)"
             ],
             [
              0.9411764705882353,
              "rgb(247,212,187)"
             ],
             [
              1,
              "rgb(250,234,220)"
             ]
            ],
            "type": "histogram2dcontour"
           }
          ],
          "mesh3d": [
           {
            "colorbar": {
             "outlinewidth": 0,
             "tickcolor": "rgb(36,36,36)",
             "ticklen": 8,
             "ticks": "outside",
             "tickwidth": 2
            },
            "type": "mesh3d"
           }
          ],
          "parcoords": [
           {
            "line": {
             "colorbar": {
              "outlinewidth": 0,
              "tickcolor": "rgb(36,36,36)",
              "ticklen": 8,
              "ticks": "outside",
              "tickwidth": 2
             }
            },
            "type": "parcoords"
           }
          ],
          "pie": [
           {
            "automargin": true,
            "type": "pie"
           }
          ],
          "scatter": [
           {
            "fillpattern": {
             "fillmode": "overlay",
             "size": 10,
             "solidity": 0.2
            },
            "type": "scatter"
           }
          ],
          "scatter3d": [
           {
            "line": {
             "colorbar": {
              "outlinewidth": 0,
              "tickcolor": "rgb(36,36,36)",
              "ticklen": 8,
              "ticks": "outside",
              "tickwidth": 2
             }
            },
            "marker": {
             "colorbar": {
              "outlinewidth": 0,
              "tickcolor": "rgb(36,36,36)",
              "ticklen": 8,
              "ticks": "outside",
              "tickwidth": 2
             }
            },
            "type": "scatter3d"
           }
          ],
          "scattercarpet": [
           {
            "marker": {
             "colorbar": {
              "outlinewidth": 0,
              "tickcolor": "rgb(36,36,36)",
              "ticklen": 8,
              "ticks": "outside",
              "tickwidth": 2
             }
            },
            "type": "scattercarpet"
           }
          ],
          "scattergeo": [
           {
            "marker": {
             "colorbar": {
              "outlinewidth": 0,
              "tickcolor": "rgb(36,36,36)",
              "ticklen": 8,
              "ticks": "outside",
              "tickwidth": 2
             }
            },
            "type": "scattergeo"
           }
          ],
          "scattergl": [
           {
            "marker": {
             "colorbar": {
              "outlinewidth": 0,
              "tickcolor": "rgb(36,36,36)",
              "ticklen": 8,
              "ticks": "outside",
              "tickwidth": 2
             }
            },
            "type": "scattergl"
           }
          ],
          "scattermapbox": [
           {
            "marker": {
             "colorbar": {
              "outlinewidth": 0,
              "tickcolor": "rgb(36,36,36)",
              "ticklen": 8,
              "ticks": "outside",
              "tickwidth": 2
             }
            },
            "type": "scattermapbox"
           }
          ],
          "scatterpolar": [
           {
            "marker": {
             "colorbar": {
              "outlinewidth": 0,
              "tickcolor": "rgb(36,36,36)",
              "ticklen": 8,
              "ticks": "outside",
              "tickwidth": 2
             }
            },
            "type": "scatterpolar"
           }
          ],
          "scatterpolargl": [
           {
            "marker": {
             "colorbar": {
              "outlinewidth": 0,
              "tickcolor": "rgb(36,36,36)",
              "ticklen": 8,
              "ticks": "outside",
              "tickwidth": 2
             }
            },
            "type": "scatterpolargl"
           }
          ],
          "scatterternary": [
           {
            "marker": {
             "colorbar": {
              "outlinewidth": 0,
              "tickcolor": "rgb(36,36,36)",
              "ticklen": 8,
              "ticks": "outside",
              "tickwidth": 2
             }
            },
            "type": "scatterternary"
           }
          ],
          "surface": [
           {
            "colorbar": {
             "outlinewidth": 0,
             "tickcolor": "rgb(36,36,36)",
             "ticklen": 8,
             "ticks": "outside",
             "tickwidth": 2
            },
            "colorscale": [
             [
              0,
              "rgb(2,4,25)"
             ],
             [
              0.06274509803921569,
              "rgb(24,15,41)"
             ],
             [
              0.12549019607843137,
              "rgb(47,23,57)"
             ],
             [
              0.18823529411764706,
              "rgb(71,28,72)"
             ],
             [
              0.25098039215686274,
              "rgb(97,30,82)"
             ],
             [
              0.3137254901960784,
              "rgb(123,30,89)"
             ],
             [
              0.3764705882352941,
              "rgb(150,27,91)"
             ],
             [
              0.4392156862745098,
              "rgb(177,22,88)"
             ],
             [
              0.5019607843137255,
              "rgb(203,26,79)"
             ],
             [
              0.5647058823529412,
              "rgb(223,47,67)"
             ],
             [
              0.6274509803921569,
              "rgb(236,76,61)"
             ],
             [
              0.6901960784313725,
              "rgb(242,107,73)"
             ],
             [
              0.7529411764705882,
              "rgb(244,135,95)"
             ],
             [
              0.8156862745098039,
              "rgb(245,162,122)"
             ],
             [
              0.8784313725490196,
              "rgb(246,188,153)"
             ],
             [
              0.9411764705882353,
              "rgb(247,212,187)"
             ],
             [
              1,
              "rgb(250,234,220)"
             ]
            ],
            "type": "surface"
           }
          ],
          "table": [
           {
            "cells": {
             "fill": {
              "color": "rgb(231,231,240)"
             },
             "line": {
              "color": "white"
             }
            },
            "header": {
             "fill": {
              "color": "rgb(183,183,191)"
             },
             "line": {
              "color": "white"
             }
            },
            "type": "table"
           }
          ]
         },
         "layout": {
          "annotationdefaults": {
           "arrowcolor": "rgb(67,103,167)"
          },
          "autotypenumbers": "strict",
          "coloraxis": {
           "colorbar": {
            "outlinewidth": 0,
            "tickcolor": "rgb(36,36,36)",
            "ticklen": 8,
            "ticks": "outside",
            "tickwidth": 2
           }
          },
          "colorscale": {
           "sequential": [
            [
             0,
             "rgb(2,4,25)"
            ],
            [
             0.06274509803921569,
             "rgb(24,15,41)"
            ],
            [
             0.12549019607843137,
             "rgb(47,23,57)"
            ],
            [
             0.18823529411764706,
             "rgb(71,28,72)"
            ],
            [
             0.25098039215686274,
             "rgb(97,30,82)"
            ],
            [
             0.3137254901960784,
             "rgb(123,30,89)"
            ],
            [
             0.3764705882352941,
             "rgb(150,27,91)"
            ],
            [
             0.4392156862745098,
             "rgb(177,22,88)"
            ],
            [
             0.5019607843137255,
             "rgb(203,26,79)"
            ],
            [
             0.5647058823529412,
             "rgb(223,47,67)"
            ],
            [
             0.6274509803921569,
             "rgb(236,76,61)"
            ],
            [
             0.6901960784313725,
             "rgb(242,107,73)"
            ],
            [
             0.7529411764705882,
             "rgb(244,135,95)"
            ],
            [
             0.8156862745098039,
             "rgb(245,162,122)"
            ],
            [
             0.8784313725490196,
             "rgb(246,188,153)"
            ],
            [
             0.9411764705882353,
             "rgb(247,212,187)"
            ],
            [
             1,
             "rgb(250,234,220)"
            ]
           ],
           "sequentialminus": [
            [
             0,
             "rgb(2,4,25)"
            ],
            [
             0.06274509803921569,
             "rgb(24,15,41)"
            ],
            [
             0.12549019607843137,
             "rgb(47,23,57)"
            ],
            [
             0.18823529411764706,
             "rgb(71,28,72)"
            ],
            [
             0.25098039215686274,
             "rgb(97,30,82)"
            ],
            [
             0.3137254901960784,
             "rgb(123,30,89)"
            ],
            [
             0.3764705882352941,
             "rgb(150,27,91)"
            ],
            [
             0.4392156862745098,
             "rgb(177,22,88)"
            ],
            [
             0.5019607843137255,
             "rgb(203,26,79)"
            ],
            [
             0.5647058823529412,
             "rgb(223,47,67)"
            ],
            [
             0.6274509803921569,
             "rgb(236,76,61)"
            ],
            [
             0.6901960784313725,
             "rgb(242,107,73)"
            ],
            [
             0.7529411764705882,
             "rgb(244,135,95)"
            ],
            [
             0.8156862745098039,
             "rgb(245,162,122)"
            ],
            [
             0.8784313725490196,
             "rgb(246,188,153)"
            ],
            [
             0.9411764705882353,
             "rgb(247,212,187)"
            ],
            [
             1,
             "rgb(250,234,220)"
            ]
           ]
          },
          "colorway": [
           "rgb(76,114,176)",
           "rgb(221,132,82)",
           "rgb(85,168,104)",
           "rgb(196,78,82)",
           "rgb(129,114,179)",
           "rgb(147,120,96)",
           "rgb(218,139,195)",
           "rgb(140,140,140)",
           "rgb(204,185,116)",
           "rgb(100,181,205)"
          ],
          "font": {
           "color": "rgb(36,36,36)"
          },
          "geo": {
           "bgcolor": "white",
           "lakecolor": "white",
           "landcolor": "rgb(234,234,242)",
           "showlakes": true,
           "showland": true,
           "subunitcolor": "white"
          },
          "hoverlabel": {
           "align": "left"
          },
          "hovermode": "closest",
          "paper_bgcolor": "white",
          "plot_bgcolor": "rgb(234,234,242)",
          "polar": {
           "angularaxis": {
            "gridcolor": "white",
            "linecolor": "white",
            "showgrid": true,
            "ticks": ""
           },
           "bgcolor": "rgb(234,234,242)",
           "radialaxis": {
            "gridcolor": "white",
            "linecolor": "white",
            "showgrid": true,
            "ticks": ""
           }
          },
          "scene": {
           "xaxis": {
            "backgroundcolor": "rgb(234,234,242)",
            "gridcolor": "white",
            "gridwidth": 2,
            "linecolor": "white",
            "showbackground": true,
            "showgrid": true,
            "ticks": "",
            "zerolinecolor": "white"
           },
           "yaxis": {
            "backgroundcolor": "rgb(234,234,242)",
            "gridcolor": "white",
            "gridwidth": 2,
            "linecolor": "white",
            "showbackground": true,
            "showgrid": true,
            "ticks": "",
            "zerolinecolor": "white"
           },
           "zaxis": {
            "backgroundcolor": "rgb(234,234,242)",
            "gridcolor": "white",
            "gridwidth": 2,
            "linecolor": "white",
            "showbackground": true,
            "showgrid": true,
            "ticks": "",
            "zerolinecolor": "white"
           }
          },
          "shapedefaults": {
           "fillcolor": "rgb(67,103,167)",
           "line": {
            "width": 0
           },
           "opacity": 0.5
          },
          "ternary": {
           "aaxis": {
            "gridcolor": "white",
            "linecolor": "white",
            "showgrid": true,
            "ticks": ""
           },
           "baxis": {
            "gridcolor": "white",
            "linecolor": "white",
            "showgrid": true,
            "ticks": ""
           },
           "bgcolor": "rgb(234,234,242)",
           "caxis": {
            "gridcolor": "white",
            "linecolor": "white",
            "showgrid": true,
            "ticks": ""
           }
          },
          "xaxis": {
           "automargin": true,
           "gridcolor": "white",
           "linecolor": "white",
           "showgrid": true,
           "ticks": "",
           "title": {
            "standoff": 15
           },
           "zerolinecolor": "white"
          },
          "yaxis": {
           "automargin": true,
           "gridcolor": "white",
           "linecolor": "white",
           "showgrid": true,
           "ticks": "",
           "title": {
            "standoff": 15
           },
           "zerolinecolor": "white"
          }
         }
        },
        "xaxis": {
         "anchor": "y",
         "categoryorder": "category ascending",
         "domain": [
          0,
          1
         ],
         "title": {
          "text": "発生時（始期）"
         }
        },
        "yaxis": {
         "anchor": "x",
         "domain": [
          0,
          1
         ],
         "title": {
          "text": "count"
         }
        }
       }
      }
     },
     "metadata": {},
     "output_type": "display_data"
    }
   ],
   "source": [
    "fig = px.bar(kashiwa,\n",
    "            x='発生時（始期）',\n",
    "            color='現金以外の主な被害品',\n",
    "            template='seaborn')\n",
    "fig.update_traces(\n",
    "    marker_line_width=0\n",
    ")\n",
    "fig.update_xaxes(categoryorder='category ascending')\n",
    "fig.show()"
   ]
  },
  {
   "cell_type": "code",
   "execution_count": 55,
   "metadata": {},
   "outputs": [
    {
     "data": {
      "application/vnd.plotly.v1+json": {
       "config": {
        "plotlyServerURL": "https://plot.ly"
       },
       "data": [
        {
         "alignmentgroup": "True",
         "hovertemplate": "施錠関係=キーあり<br>発生時（始期）=%{x}<br>count=%{y}<extra></extra>",
         "legendgroup": "キーあり",
         "marker": {
          "color": "rgb(76,114,176)",
          "line": {
           "width": 0
          },
          "pattern": {
           "shape": ""
          }
         },
         "name": "キーあり",
         "offsetgroup": "キーあり",
         "orientation": "v",
         "showlegend": true,
         "textposition": "auto",
         "type": "bar",
         "x": [
          "00",
          "15",
          "17",
          "06",
          "08",
          "06",
          "20",
          "18",
          "13",
          "17",
          "22",
          "06",
          "21",
          "07",
          "18",
          "18",
          "16",
          "21",
          "16",
          "22"
         ],
         "xaxis": "x",
         "y": [
          1,
          1,
          1,
          1,
          1,
          1,
          1,
          1,
          1,
          1,
          1,
          1,
          1,
          1,
          1,
          1,
          1,
          1,
          1,
          1
         ],
         "yaxis": "y"
        },
        {
         "alignmentgroup": "True",
         "hovertemplate": "施錠関係=キーなし<br>発生時（始期）=%{x}<br>count=%{y}<extra></extra>",
         "legendgroup": "キーなし",
         "marker": {
          "color": "rgb(221,132,82)",
          "line": {
           "width": 0
          },
          "pattern": {
           "shape": ""
          }
         },
         "name": "キーなし",
         "offsetgroup": "キーなし",
         "orientation": "v",
         "showlegend": true,
         "textposition": "auto",
         "type": "bar",
         "x": [
          "21",
          "15",
          "01",
          "08",
          "23",
          "21",
          "22",
          "05",
          "19",
          "18",
          "14",
          "14",
          "11",
          "20",
          "13",
          "08",
          "11",
          "22",
          "21",
          "20",
          "23",
          "20",
          "10",
          "22",
          "08",
          "18",
          "20",
          "18",
          "不明",
          "16",
          "16",
          "20",
          "02",
          "06",
          "16",
          "19",
          "20",
          "19",
          "01",
          "20",
          "19",
          "00",
          "16"
         ],
         "xaxis": "x",
         "y": [
          1,
          1,
          1,
          1,
          1,
          1,
          1,
          1,
          1,
          1,
          1,
          1,
          1,
          1,
          1,
          1,
          1,
          1,
          1,
          1,
          1,
          1,
          1,
          1,
          1,
          1,
          1,
          1,
          1,
          1,
          1,
          1,
          1,
          1,
          1,
          1,
          1,
          1,
          1,
          1,
          1,
          1,
          1
         ],
         "yaxis": "y"
        }
       ],
       "layout": {
        "barmode": "relative",
        "legend": {
         "title": {
          "text": "施錠関係"
         },
         "tracegroupgap": 0
        },
        "margin": {
         "t": 60
        },
        "template": {
         "data": {
          "bar": [
           {
            "error_x": {
             "color": "rgb(36,36,36)"
            },
            "error_y": {
             "color": "rgb(36,36,36)"
            },
            "marker": {
             "line": {
              "color": "rgb(234,234,242)",
              "width": 0.5
             },
             "pattern": {
              "fillmode": "overlay",
              "size": 10,
              "solidity": 0.2
             }
            },
            "type": "bar"
           }
          ],
          "barpolar": [
           {
            "marker": {
             "line": {
              "color": "rgb(234,234,242)",
              "width": 0.5
             },
             "pattern": {
              "fillmode": "overlay",
              "size": 10,
              "solidity": 0.2
             }
            },
            "type": "barpolar"
           }
          ],
          "carpet": [
           {
            "aaxis": {
             "endlinecolor": "rgb(36,36,36)",
             "gridcolor": "white",
             "linecolor": "white",
             "minorgridcolor": "white",
             "startlinecolor": "rgb(36,36,36)"
            },
            "baxis": {
             "endlinecolor": "rgb(36,36,36)",
             "gridcolor": "white",
             "linecolor": "white",
             "minorgridcolor": "white",
             "startlinecolor": "rgb(36,36,36)"
            },
            "type": "carpet"
           }
          ],
          "choropleth": [
           {
            "colorbar": {
             "outlinewidth": 0,
             "tickcolor": "rgb(36,36,36)",
             "ticklen": 8,
             "ticks": "outside",
             "tickwidth": 2
            },
            "type": "choropleth"
           }
          ],
          "contour": [
           {
            "colorbar": {
             "outlinewidth": 0,
             "tickcolor": "rgb(36,36,36)",
             "ticklen": 8,
             "ticks": "outside",
             "tickwidth": 2
            },
            "colorscale": [
             [
              0,
              "rgb(2,4,25)"
             ],
             [
              0.06274509803921569,
              "rgb(24,15,41)"
             ],
             [
              0.12549019607843137,
              "rgb(47,23,57)"
             ],
             [
              0.18823529411764706,
              "rgb(71,28,72)"
             ],
             [
              0.25098039215686274,
              "rgb(97,30,82)"
             ],
             [
              0.3137254901960784,
              "rgb(123,30,89)"
             ],
             [
              0.3764705882352941,
              "rgb(150,27,91)"
             ],
             [
              0.4392156862745098,
              "rgb(177,22,88)"
             ],
             [
              0.5019607843137255,
              "rgb(203,26,79)"
             ],
             [
              0.5647058823529412,
              "rgb(223,47,67)"
             ],
             [
              0.6274509803921569,
              "rgb(236,76,61)"
             ],
             [
              0.6901960784313725,
              "rgb(242,107,73)"
             ],
             [
              0.7529411764705882,
              "rgb(244,135,95)"
             ],
             [
              0.8156862745098039,
              "rgb(245,162,122)"
             ],
             [
              0.8784313725490196,
              "rgb(246,188,153)"
             ],
             [
              0.9411764705882353,
              "rgb(247,212,187)"
             ],
             [
              1,
              "rgb(250,234,220)"
             ]
            ],
            "type": "contour"
           }
          ],
          "contourcarpet": [
           {
            "colorbar": {
             "outlinewidth": 0,
             "tickcolor": "rgb(36,36,36)",
             "ticklen": 8,
             "ticks": "outside",
             "tickwidth": 2
            },
            "type": "contourcarpet"
           }
          ],
          "heatmap": [
           {
            "colorbar": {
             "outlinewidth": 0,
             "tickcolor": "rgb(36,36,36)",
             "ticklen": 8,
             "ticks": "outside",
             "tickwidth": 2
            },
            "colorscale": [
             [
              0,
              "rgb(2,4,25)"
             ],
             [
              0.06274509803921569,
              "rgb(24,15,41)"
             ],
             [
              0.12549019607843137,
              "rgb(47,23,57)"
             ],
             [
              0.18823529411764706,
              "rgb(71,28,72)"
             ],
             [
              0.25098039215686274,
              "rgb(97,30,82)"
             ],
             [
              0.3137254901960784,
              "rgb(123,30,89)"
             ],
             [
              0.3764705882352941,
              "rgb(150,27,91)"
             ],
             [
              0.4392156862745098,
              "rgb(177,22,88)"
             ],
             [
              0.5019607843137255,
              "rgb(203,26,79)"
             ],
             [
              0.5647058823529412,
              "rgb(223,47,67)"
             ],
             [
              0.6274509803921569,
              "rgb(236,76,61)"
             ],
             [
              0.6901960784313725,
              "rgb(242,107,73)"
             ],
             [
              0.7529411764705882,
              "rgb(244,135,95)"
             ],
             [
              0.8156862745098039,
              "rgb(245,162,122)"
             ],
             [
              0.8784313725490196,
              "rgb(246,188,153)"
             ],
             [
              0.9411764705882353,
              "rgb(247,212,187)"
             ],
             [
              1,
              "rgb(250,234,220)"
             ]
            ],
            "type": "heatmap"
           }
          ],
          "heatmapgl": [
           {
            "colorbar": {
             "outlinewidth": 0,
             "tickcolor": "rgb(36,36,36)",
             "ticklen": 8,
             "ticks": "outside",
             "tickwidth": 2
            },
            "colorscale": [
             [
              0,
              "rgb(2,4,25)"
             ],
             [
              0.06274509803921569,
              "rgb(24,15,41)"
             ],
             [
              0.12549019607843137,
              "rgb(47,23,57)"
             ],
             [
              0.18823529411764706,
              "rgb(71,28,72)"
             ],
             [
              0.25098039215686274,
              "rgb(97,30,82)"
             ],
             [
              0.3137254901960784,
              "rgb(123,30,89)"
             ],
             [
              0.3764705882352941,
              "rgb(150,27,91)"
             ],
             [
              0.4392156862745098,
              "rgb(177,22,88)"
             ],
             [
              0.5019607843137255,
              "rgb(203,26,79)"
             ],
             [
              0.5647058823529412,
              "rgb(223,47,67)"
             ],
             [
              0.6274509803921569,
              "rgb(236,76,61)"
             ],
             [
              0.6901960784313725,
              "rgb(242,107,73)"
             ],
             [
              0.7529411764705882,
              "rgb(244,135,95)"
             ],
             [
              0.8156862745098039,
              "rgb(245,162,122)"
             ],
             [
              0.8784313725490196,
              "rgb(246,188,153)"
             ],
             [
              0.9411764705882353,
              "rgb(247,212,187)"
             ],
             [
              1,
              "rgb(250,234,220)"
             ]
            ],
            "type": "heatmapgl"
           }
          ],
          "histogram": [
           {
            "marker": {
             "pattern": {
              "fillmode": "overlay",
              "size": 10,
              "solidity": 0.2
             }
            },
            "type": "histogram"
           }
          ],
          "histogram2d": [
           {
            "colorbar": {
             "outlinewidth": 0,
             "tickcolor": "rgb(36,36,36)",
             "ticklen": 8,
             "ticks": "outside",
             "tickwidth": 2
            },
            "colorscale": [
             [
              0,
              "rgb(2,4,25)"
             ],
             [
              0.06274509803921569,
              "rgb(24,15,41)"
             ],
             [
              0.12549019607843137,
              "rgb(47,23,57)"
             ],
             [
              0.18823529411764706,
              "rgb(71,28,72)"
             ],
             [
              0.25098039215686274,
              "rgb(97,30,82)"
             ],
             [
              0.3137254901960784,
              "rgb(123,30,89)"
             ],
             [
              0.3764705882352941,
              "rgb(150,27,91)"
             ],
             [
              0.4392156862745098,
              "rgb(177,22,88)"
             ],
             [
              0.5019607843137255,
              "rgb(203,26,79)"
             ],
             [
              0.5647058823529412,
              "rgb(223,47,67)"
             ],
             [
              0.6274509803921569,
              "rgb(236,76,61)"
             ],
             [
              0.6901960784313725,
              "rgb(242,107,73)"
             ],
             [
              0.7529411764705882,
              "rgb(244,135,95)"
             ],
             [
              0.8156862745098039,
              "rgb(245,162,122)"
             ],
             [
              0.8784313725490196,
              "rgb(246,188,153)"
             ],
             [
              0.9411764705882353,
              "rgb(247,212,187)"
             ],
             [
              1,
              "rgb(250,234,220)"
             ]
            ],
            "type": "histogram2d"
           }
          ],
          "histogram2dcontour": [
           {
            "colorbar": {
             "outlinewidth": 0,
             "tickcolor": "rgb(36,36,36)",
             "ticklen": 8,
             "ticks": "outside",
             "tickwidth": 2
            },
            "colorscale": [
             [
              0,
              "rgb(2,4,25)"
             ],
             [
              0.06274509803921569,
              "rgb(24,15,41)"
             ],
             [
              0.12549019607843137,
              "rgb(47,23,57)"
             ],
             [
              0.18823529411764706,
              "rgb(71,28,72)"
             ],
             [
              0.25098039215686274,
              "rgb(97,30,82)"
             ],
             [
              0.3137254901960784,
              "rgb(123,30,89)"
             ],
             [
              0.3764705882352941,
              "rgb(150,27,91)"
             ],
             [
              0.4392156862745098,
              "rgb(177,22,88)"
             ],
             [
              0.5019607843137255,
              "rgb(203,26,79)"
             ],
             [
              0.5647058823529412,
              "rgb(223,47,67)"
             ],
             [
              0.6274509803921569,
              "rgb(236,76,61)"
             ],
             [
              0.6901960784313725,
              "rgb(242,107,73)"
             ],
             [
              0.7529411764705882,
              "rgb(244,135,95)"
             ],
             [
              0.8156862745098039,
              "rgb(245,162,122)"
             ],
             [
              0.8784313725490196,
              "rgb(246,188,153)"
             ],
             [
              0.9411764705882353,
              "rgb(247,212,187)"
             ],
             [
              1,
              "rgb(250,234,220)"
             ]
            ],
            "type": "histogram2dcontour"
           }
          ],
          "mesh3d": [
           {
            "colorbar": {
             "outlinewidth": 0,
             "tickcolor": "rgb(36,36,36)",
             "ticklen": 8,
             "ticks": "outside",
             "tickwidth": 2
            },
            "type": "mesh3d"
           }
          ],
          "parcoords": [
           {
            "line": {
             "colorbar": {
              "outlinewidth": 0,
              "tickcolor": "rgb(36,36,36)",
              "ticklen": 8,
              "ticks": "outside",
              "tickwidth": 2
             }
            },
            "type": "parcoords"
           }
          ],
          "pie": [
           {
            "automargin": true,
            "type": "pie"
           }
          ],
          "scatter": [
           {
            "fillpattern": {
             "fillmode": "overlay",
             "size": 10,
             "solidity": 0.2
            },
            "type": "scatter"
           }
          ],
          "scatter3d": [
           {
            "line": {
             "colorbar": {
              "outlinewidth": 0,
              "tickcolor": "rgb(36,36,36)",
              "ticklen": 8,
              "ticks": "outside",
              "tickwidth": 2
             }
            },
            "marker": {
             "colorbar": {
              "outlinewidth": 0,
              "tickcolor": "rgb(36,36,36)",
              "ticklen": 8,
              "ticks": "outside",
              "tickwidth": 2
             }
            },
            "type": "scatter3d"
           }
          ],
          "scattercarpet": [
           {
            "marker": {
             "colorbar": {
              "outlinewidth": 0,
              "tickcolor": "rgb(36,36,36)",
              "ticklen": 8,
              "ticks": "outside",
              "tickwidth": 2
             }
            },
            "type": "scattercarpet"
           }
          ],
          "scattergeo": [
           {
            "marker": {
             "colorbar": {
              "outlinewidth": 0,
              "tickcolor": "rgb(36,36,36)",
              "ticklen": 8,
              "ticks": "outside",
              "tickwidth": 2
             }
            },
            "type": "scattergeo"
           }
          ],
          "scattergl": [
           {
            "marker": {
             "colorbar": {
              "outlinewidth": 0,
              "tickcolor": "rgb(36,36,36)",
              "ticklen": 8,
              "ticks": "outside",
              "tickwidth": 2
             }
            },
            "type": "scattergl"
           }
          ],
          "scattermapbox": [
           {
            "marker": {
             "colorbar": {
              "outlinewidth": 0,
              "tickcolor": "rgb(36,36,36)",
              "ticklen": 8,
              "ticks": "outside",
              "tickwidth": 2
             }
            },
            "type": "scattermapbox"
           }
          ],
          "scatterpolar": [
           {
            "marker": {
             "colorbar": {
              "outlinewidth": 0,
              "tickcolor": "rgb(36,36,36)",
              "ticklen": 8,
              "ticks": "outside",
              "tickwidth": 2
             }
            },
            "type": "scatterpolar"
           }
          ],
          "scatterpolargl": [
           {
            "marker": {
             "colorbar": {
              "outlinewidth": 0,
              "tickcolor": "rgb(36,36,36)",
              "ticklen": 8,
              "ticks": "outside",
              "tickwidth": 2
             }
            },
            "type": "scatterpolargl"
           }
          ],
          "scatterternary": [
           {
            "marker": {
             "colorbar": {
              "outlinewidth": 0,
              "tickcolor": "rgb(36,36,36)",
              "ticklen": 8,
              "ticks": "outside",
              "tickwidth": 2
             }
            },
            "type": "scatterternary"
           }
          ],
          "surface": [
           {
            "colorbar": {
             "outlinewidth": 0,
             "tickcolor": "rgb(36,36,36)",
             "ticklen": 8,
             "ticks": "outside",
             "tickwidth": 2
            },
            "colorscale": [
             [
              0,
              "rgb(2,4,25)"
             ],
             [
              0.06274509803921569,
              "rgb(24,15,41)"
             ],
             [
              0.12549019607843137,
              "rgb(47,23,57)"
             ],
             [
              0.18823529411764706,
              "rgb(71,28,72)"
             ],
             [
              0.25098039215686274,
              "rgb(97,30,82)"
             ],
             [
              0.3137254901960784,
              "rgb(123,30,89)"
             ],
             [
              0.3764705882352941,
              "rgb(150,27,91)"
             ],
             [
              0.4392156862745098,
              "rgb(177,22,88)"
             ],
             [
              0.5019607843137255,
              "rgb(203,26,79)"
             ],
             [
              0.5647058823529412,
              "rgb(223,47,67)"
             ],
             [
              0.6274509803921569,
              "rgb(236,76,61)"
             ],
             [
              0.6901960784313725,
              "rgb(242,107,73)"
             ],
             [
              0.7529411764705882,
              "rgb(244,135,95)"
             ],
             [
              0.8156862745098039,
              "rgb(245,162,122)"
             ],
             [
              0.8784313725490196,
              "rgb(246,188,153)"
             ],
             [
              0.9411764705882353,
              "rgb(247,212,187)"
             ],
             [
              1,
              "rgb(250,234,220)"
             ]
            ],
            "type": "surface"
           }
          ],
          "table": [
           {
            "cells": {
             "fill": {
              "color": "rgb(231,231,240)"
             },
             "line": {
              "color": "white"
             }
            },
            "header": {
             "fill": {
              "color": "rgb(183,183,191)"
             },
             "line": {
              "color": "white"
             }
            },
            "type": "table"
           }
          ]
         },
         "layout": {
          "annotationdefaults": {
           "arrowcolor": "rgb(67,103,167)"
          },
          "autotypenumbers": "strict",
          "coloraxis": {
           "colorbar": {
            "outlinewidth": 0,
            "tickcolor": "rgb(36,36,36)",
            "ticklen": 8,
            "ticks": "outside",
            "tickwidth": 2
           }
          },
          "colorscale": {
           "sequential": [
            [
             0,
             "rgb(2,4,25)"
            ],
            [
             0.06274509803921569,
             "rgb(24,15,41)"
            ],
            [
             0.12549019607843137,
             "rgb(47,23,57)"
            ],
            [
             0.18823529411764706,
             "rgb(71,28,72)"
            ],
            [
             0.25098039215686274,
             "rgb(97,30,82)"
            ],
            [
             0.3137254901960784,
             "rgb(123,30,89)"
            ],
            [
             0.3764705882352941,
             "rgb(150,27,91)"
            ],
            [
             0.4392156862745098,
             "rgb(177,22,88)"
            ],
            [
             0.5019607843137255,
             "rgb(203,26,79)"
            ],
            [
             0.5647058823529412,
             "rgb(223,47,67)"
            ],
            [
             0.6274509803921569,
             "rgb(236,76,61)"
            ],
            [
             0.6901960784313725,
             "rgb(242,107,73)"
            ],
            [
             0.7529411764705882,
             "rgb(244,135,95)"
            ],
            [
             0.8156862745098039,
             "rgb(245,162,122)"
            ],
            [
             0.8784313725490196,
             "rgb(246,188,153)"
            ],
            [
             0.9411764705882353,
             "rgb(247,212,187)"
            ],
            [
             1,
             "rgb(250,234,220)"
            ]
           ],
           "sequentialminus": [
            [
             0,
             "rgb(2,4,25)"
            ],
            [
             0.06274509803921569,
             "rgb(24,15,41)"
            ],
            [
             0.12549019607843137,
             "rgb(47,23,57)"
            ],
            [
             0.18823529411764706,
             "rgb(71,28,72)"
            ],
            [
             0.25098039215686274,
             "rgb(97,30,82)"
            ],
            [
             0.3137254901960784,
             "rgb(123,30,89)"
            ],
            [
             0.3764705882352941,
             "rgb(150,27,91)"
            ],
            [
             0.4392156862745098,
             "rgb(177,22,88)"
            ],
            [
             0.5019607843137255,
             "rgb(203,26,79)"
            ],
            [
             0.5647058823529412,
             "rgb(223,47,67)"
            ],
            [
             0.6274509803921569,
             "rgb(236,76,61)"
            ],
            [
             0.6901960784313725,
             "rgb(242,107,73)"
            ],
            [
             0.7529411764705882,
             "rgb(244,135,95)"
            ],
            [
             0.8156862745098039,
             "rgb(245,162,122)"
            ],
            [
             0.8784313725490196,
             "rgb(246,188,153)"
            ],
            [
             0.9411764705882353,
             "rgb(247,212,187)"
            ],
            [
             1,
             "rgb(250,234,220)"
            ]
           ]
          },
          "colorway": [
           "rgb(76,114,176)",
           "rgb(221,132,82)",
           "rgb(85,168,104)",
           "rgb(196,78,82)",
           "rgb(129,114,179)",
           "rgb(147,120,96)",
           "rgb(218,139,195)",
           "rgb(140,140,140)",
           "rgb(204,185,116)",
           "rgb(100,181,205)"
          ],
          "font": {
           "color": "rgb(36,36,36)"
          },
          "geo": {
           "bgcolor": "white",
           "lakecolor": "white",
           "landcolor": "rgb(234,234,242)",
           "showlakes": true,
           "showland": true,
           "subunitcolor": "white"
          },
          "hoverlabel": {
           "align": "left"
          },
          "hovermode": "closest",
          "paper_bgcolor": "white",
          "plot_bgcolor": "rgb(234,234,242)",
          "polar": {
           "angularaxis": {
            "gridcolor": "white",
            "linecolor": "white",
            "showgrid": true,
            "ticks": ""
           },
           "bgcolor": "rgb(234,234,242)",
           "radialaxis": {
            "gridcolor": "white",
            "linecolor": "white",
            "showgrid": true,
            "ticks": ""
           }
          },
          "scene": {
           "xaxis": {
            "backgroundcolor": "rgb(234,234,242)",
            "gridcolor": "white",
            "gridwidth": 2,
            "linecolor": "white",
            "showbackground": true,
            "showgrid": true,
            "ticks": "",
            "zerolinecolor": "white"
           },
           "yaxis": {
            "backgroundcolor": "rgb(234,234,242)",
            "gridcolor": "white",
            "gridwidth": 2,
            "linecolor": "white",
            "showbackground": true,
            "showgrid": true,
            "ticks": "",
            "zerolinecolor": "white"
           },
           "zaxis": {
            "backgroundcolor": "rgb(234,234,242)",
            "gridcolor": "white",
            "gridwidth": 2,
            "linecolor": "white",
            "showbackground": true,
            "showgrid": true,
            "ticks": "",
            "zerolinecolor": "white"
           }
          },
          "shapedefaults": {
           "fillcolor": "rgb(67,103,167)",
           "line": {
            "width": 0
           },
           "opacity": 0.5
          },
          "ternary": {
           "aaxis": {
            "gridcolor": "white",
            "linecolor": "white",
            "showgrid": true,
            "ticks": ""
           },
           "baxis": {
            "gridcolor": "white",
            "linecolor": "white",
            "showgrid": true,
            "ticks": ""
           },
           "bgcolor": "rgb(234,234,242)",
           "caxis": {
            "gridcolor": "white",
            "linecolor": "white",
            "showgrid": true,
            "ticks": ""
           }
          },
          "xaxis": {
           "automargin": true,
           "gridcolor": "white",
           "linecolor": "white",
           "showgrid": true,
           "ticks": "",
           "title": {
            "standoff": 15
           },
           "zerolinecolor": "white"
          },
          "yaxis": {
           "automargin": true,
           "gridcolor": "white",
           "linecolor": "white",
           "showgrid": true,
           "ticks": "",
           "title": {
            "standoff": 15
           },
           "zerolinecolor": "white"
          }
         }
        },
        "xaxis": {
         "anchor": "y",
         "categoryorder": "category ascending",
         "domain": [
          0,
          1
         ],
         "title": {
          "text": "発生時（始期）"
         }
        },
        "yaxis": {
         "anchor": "x",
         "domain": [
          0,
          1
         ],
         "title": {
          "text": "count"
         }
        }
       }
      }
     },
     "metadata": {},
     "output_type": "display_data"
    }
   ],
   "source": [
    "fig = px.bar(kashiwa,\n",
    "            x='発生時（始期）',\n",
    "            color='施錠関係',\n",
    "            template='seaborn')\n",
    "fig.update_traces(\n",
    "    marker_line_width=0\n",
    ")\n",
    "fig.update_xaxes(categoryorder='category ascending')\n",
    "fig.show()"
   ]
  },
  {
   "cell_type": "code",
   "execution_count": 42,
   "metadata": {},
   "outputs": [],
   "source": [
    "# 全データの中央座標\n",
    "center_lat = kashiwa.lat.mean()\n",
    "center_lon = kashiwa.lon.mean()"
   ]
  },
  {
   "cell_type": "code",
   "execution_count": 54,
   "metadata": {},
   "outputs": [
    {
     "data": {
      "text/html": [
       "<div style=\"width:100%;\"><div style=\"position:relative;width:100%;height:0;padding-bottom:60%;\"><span style=\"color:#565656\">Make this Notebook Trusted to load map: File -> Trust Notebook</span><iframe srcdoc=\"&lt;!DOCTYPE html&gt;\n",
       "&lt;html&gt;\n",
       "&lt;head&gt;\n",
       "    \n",
       "    &lt;meta http-equiv=&quot;content-type&quot; content=&quot;text/html; charset=UTF-8&quot; /&gt;\n",
       "    \n",
       "        &lt;script&gt;\n",
       "            L_NO_TOUCH = false;\n",
       "            L_DISABLE_3D = false;\n",
       "        &lt;/script&gt;\n",
       "    \n",
       "    &lt;style&gt;html, body {width: 100%;height: 100%;margin: 0;padding: 0;}&lt;/style&gt;\n",
       "    &lt;style&gt;#map {position:absolute;top:0;bottom:0;right:0;left:0;}&lt;/style&gt;\n",
       "    &lt;script src=&quot;https://cdn.jsdelivr.net/npm/leaflet@1.9.3/dist/leaflet.js&quot;&gt;&lt;/script&gt;\n",
       "    &lt;script src=&quot;https://code.jquery.com/jquery-1.12.4.min.js&quot;&gt;&lt;/script&gt;\n",
       "    &lt;script src=&quot;https://cdn.jsdelivr.net/npm/bootstrap@5.2.2/dist/js/bootstrap.bundle.min.js&quot;&gt;&lt;/script&gt;\n",
       "    &lt;script src=&quot;https://cdnjs.cloudflare.com/ajax/libs/Leaflet.awesome-markers/2.0.2/leaflet.awesome-markers.js&quot;&gt;&lt;/script&gt;\n",
       "    &lt;link rel=&quot;stylesheet&quot; href=&quot;https://cdn.jsdelivr.net/npm/leaflet@1.9.3/dist/leaflet.css&quot;/&gt;\n",
       "    &lt;link rel=&quot;stylesheet&quot; href=&quot;https://cdn.jsdelivr.net/npm/bootstrap@5.2.2/dist/css/bootstrap.min.css&quot;/&gt;\n",
       "    &lt;link rel=&quot;stylesheet&quot; href=&quot;https://netdna.bootstrapcdn.com/bootstrap/3.0.0/css/bootstrap.min.css&quot;/&gt;\n",
       "    &lt;link rel=&quot;stylesheet&quot; href=&quot;https://cdn.jsdelivr.net/npm/@fortawesome/fontawesome-free@6.2.0/css/all.min.css&quot;/&gt;\n",
       "    &lt;link rel=&quot;stylesheet&quot; href=&quot;https://cdnjs.cloudflare.com/ajax/libs/Leaflet.awesome-markers/2.0.2/leaflet.awesome-markers.css&quot;/&gt;\n",
       "    &lt;link rel=&quot;stylesheet&quot; href=&quot;https://cdn.jsdelivr.net/gh/python-visualization/folium/folium/templates/leaflet.awesome.rotate.min.css&quot;/&gt;\n",
       "    \n",
       "            &lt;meta name=&quot;viewport&quot; content=&quot;width=device-width,\n",
       "                initial-scale=1.0, maximum-scale=1.0, user-scalable=no&quot; /&gt;\n",
       "            &lt;style&gt;\n",
       "                #map_115212be7aa339b2e1124634f7ca62f2 {\n",
       "                    position: relative;\n",
       "                    width: 100.0%;\n",
       "                    height: 100.0%;\n",
       "                    left: 0.0%;\n",
       "                    top: 0.0%;\n",
       "                }\n",
       "                .leaflet-container { font-size: 1rem; }\n",
       "            &lt;/style&gt;\n",
       "        \n",
       "    &lt;script src=&quot;https://cdnjs.cloudflare.com/ajax/libs/leaflet.markercluster/1.1.0/leaflet.markercluster.js&quot;&gt;&lt;/script&gt;\n",
       "    &lt;link rel=&quot;stylesheet&quot; href=&quot;https://cdnjs.cloudflare.com/ajax/libs/leaflet.markercluster/1.1.0/MarkerCluster.css&quot;/&gt;\n",
       "    &lt;link rel=&quot;stylesheet&quot; href=&quot;https://cdnjs.cloudflare.com/ajax/libs/leaflet.markercluster/1.1.0/MarkerCluster.Default.css&quot;/&gt;\n",
       "&lt;/head&gt;\n",
       "&lt;body&gt;\n",
       "    \n",
       "    \n",
       "            &lt;div class=&quot;folium-map&quot; id=&quot;map_115212be7aa339b2e1124634f7ca62f2&quot; &gt;&lt;/div&gt;\n",
       "        \n",
       "&lt;/body&gt;\n",
       "&lt;script&gt;\n",
       "    \n",
       "    \n",
       "            var map_115212be7aa339b2e1124634f7ca62f2 = L.map(\n",
       "                &quot;map_115212be7aa339b2e1124634f7ca62f2&quot;,\n",
       "                {\n",
       "                    center: [35.84425407936507, 139.97801593650792],\n",
       "                    crs: L.CRS.EPSG3857,\n",
       "                    zoom: 12,\n",
       "                    zoomControl: true,\n",
       "                    preferCanvas: false,\n",
       "                }\n",
       "            );\n",
       "\n",
       "            \n",
       "\n",
       "        \n",
       "    \n",
       "            var tile_layer_1882a4626cfdbeaeebd6d2c57d61bf6f = L.tileLayer(\n",
       "                &quot;https://{s}.tile.openstreetmap.org/{z}/{x}/{y}.png&quot;,\n",
       "                {&quot;attribution&quot;: &quot;Data by \\u0026copy; \\u003ca target=\\&quot;_blank\\&quot; href=\\&quot;http://openstreetmap.org\\&quot;\\u003eOpenStreetMap\\u003c/a\\u003e, under \\u003ca target=\\&quot;_blank\\&quot; href=\\&quot;http://www.openstreetmap.org/copyright\\&quot;\\u003eODbL\\u003c/a\\u003e.&quot;, &quot;detectRetina&quot;: false, &quot;maxNativeZoom&quot;: 18, &quot;maxZoom&quot;: 18, &quot;minZoom&quot;: 0, &quot;noWrap&quot;: false, &quot;opacity&quot;: 1, &quot;subdomains&quot;: &quot;abc&quot;, &quot;tms&quot;: false}\n",
       "            ).addTo(map_115212be7aa339b2e1124634f7ca62f2);\n",
       "        \n",
       "    \n",
       "            var marker_cluster_c0afe8ac6d6dc6be57fc083a0a952592 = L.markerClusterGroup(\n",
       "                {}\n",
       "            );\n",
       "            map_115212be7aa339b2e1124634f7ca62f2.addLayer(marker_cluster_c0afe8ac6d6dc6be57fc083a0a952592);\n",
       "        \n",
       "    \n",
       "            var marker_46c042ba635bdff52704f07314b55927 = L.marker(\n",
       "                [35.869129, 139.971756],\n",
       "                {}\n",
       "            ).addTo(marker_cluster_c0afe8ac6d6dc6be57fc083a0a952592);\n",
       "        \n",
       "    \n",
       "            marker_46c042ba635bdff52704f07314b55927.bindTooltip(\n",
       "                `&lt;div&gt;\n",
       "                     原動機付自転車（50cc以下）\n",
       "                 &lt;/div&gt;`,\n",
       "                {&quot;sticky&quot;: true}\n",
       "            );\n",
       "        \n",
       "    \n",
       "            var marker_1527b68d8964f991347882e431f404e6 = L.marker(\n",
       "                [35.85675, 139.962128],\n",
       "                {}\n",
       "            ).addTo(marker_cluster_c0afe8ac6d6dc6be57fc083a0a952592);\n",
       "        \n",
       "    \n",
       "            marker_1527b68d8964f991347882e431f404e6.bindTooltip(\n",
       "                `&lt;div&gt;\n",
       "                     自動二輪（50cc超）\n",
       "                 &lt;/div&gt;`,\n",
       "                {&quot;sticky&quot;: true}\n",
       "            );\n",
       "        \n",
       "    \n",
       "            var marker_14577716e8608b0b485a908765b1419c = L.marker(\n",
       "                [35.841068, 139.999237],\n",
       "                {}\n",
       "            ).addTo(marker_cluster_c0afe8ac6d6dc6be57fc083a0a952592);\n",
       "        \n",
       "    \n",
       "            marker_14577716e8608b0b485a908765b1419c.bindTooltip(\n",
       "                `&lt;div&gt;\n",
       "                     なし\n",
       "                 &lt;/div&gt;`,\n",
       "                {&quot;sticky&quot;: true}\n",
       "            );\n",
       "        \n",
       "    \n",
       "            var marker_3c4d028899b6f1bff69ff49b6eb55667 = L.marker(\n",
       "                [35.837143, 140.002502],\n",
       "                {}\n",
       "            ).addTo(marker_cluster_c0afe8ac6d6dc6be57fc083a0a952592);\n",
       "        \n",
       "    \n",
       "            marker_3c4d028899b6f1bff69ff49b6eb55667.bindTooltip(\n",
       "                `&lt;div&gt;\n",
       "                     原動機付自転車（50cc以下）\n",
       "                 &lt;/div&gt;`,\n",
       "                {&quot;sticky&quot;: true}\n",
       "            );\n",
       "        \n",
       "    \n",
       "            var marker_5b7f59e2f78230993d0eadb0766dc6d5 = L.marker(\n",
       "                [35.837143, 140.002502],\n",
       "                {}\n",
       "            ).addTo(marker_cluster_c0afe8ac6d6dc6be57fc083a0a952592);\n",
       "        \n",
       "    \n",
       "            marker_5b7f59e2f78230993d0eadb0766dc6d5.bindTooltip(\n",
       "                `&lt;div&gt;\n",
       "                     原動機付自転車（50cc以下）\n",
       "                 &lt;/div&gt;`,\n",
       "                {&quot;sticky&quot;: true}\n",
       "            );\n",
       "        \n",
       "    \n",
       "            var marker_2d102ea5e759f38d86a7798cebec4135 = L.marker(\n",
       "                [35.856449, 139.967957],\n",
       "                {}\n",
       "            ).addTo(marker_cluster_c0afe8ac6d6dc6be57fc083a0a952592);\n",
       "        \n",
       "    \n",
       "            marker_2d102ea5e759f38d86a7798cebec4135.bindTooltip(\n",
       "                `&lt;div&gt;\n",
       "                     自動二輪（50cc超）\n",
       "                 &lt;/div&gt;`,\n",
       "                {&quot;sticky&quot;: true}\n",
       "            );\n",
       "        \n",
       "    \n",
       "            var marker_6d5731d12003a14e267790d9709ec70d = L.marker(\n",
       "                [35.864445, 139.986511],\n",
       "                {}\n",
       "            ).addTo(marker_cluster_c0afe8ac6d6dc6be57fc083a0a952592);\n",
       "        \n",
       "    \n",
       "            marker_6d5731d12003a14e267790d9709ec70d.bindTooltip(\n",
       "                `&lt;div&gt;\n",
       "                     自動二輪（50cc超）\n",
       "                 &lt;/div&gt;`,\n",
       "                {&quot;sticky&quot;: true}\n",
       "            );\n",
       "        \n",
       "    \n",
       "            var marker_22a08bb4606bd0f496a998111efde626 = L.marker(\n",
       "                [35.863529, 139.974228],\n",
       "                {}\n",
       "            ).addTo(marker_cluster_c0afe8ac6d6dc6be57fc083a0a952592);\n",
       "        \n",
       "    \n",
       "            marker_22a08bb4606bd0f496a998111efde626.bindTooltip(\n",
       "                `&lt;div&gt;\n",
       "                     原動機付自転車（50cc以下）\n",
       "                 &lt;/div&gt;`,\n",
       "                {&quot;sticky&quot;: true}\n",
       "            );\n",
       "        \n",
       "    \n",
       "            var marker_7c8111811aa62108750b1dae70aa4e15 = L.marker(\n",
       "                [35.857903, 139.972931],\n",
       "                {}\n",
       "            ).addTo(marker_cluster_c0afe8ac6d6dc6be57fc083a0a952592);\n",
       "        \n",
       "    \n",
       "            marker_7c8111811aa62108750b1dae70aa4e15.bindTooltip(\n",
       "                `&lt;div&gt;\n",
       "                     原動機付自転車（50cc以下）\n",
       "                 &lt;/div&gt;`,\n",
       "                {&quot;sticky&quot;: true}\n",
       "            );\n",
       "        \n",
       "    \n",
       "            var marker_19cf9c2b3e62c64f904e45694eacc45d = L.marker(\n",
       "                [35.859303, 139.970566],\n",
       "                {}\n",
       "            ).addTo(marker_cluster_c0afe8ac6d6dc6be57fc083a0a952592);\n",
       "        \n",
       "    \n",
       "            marker_19cf9c2b3e62c64f904e45694eacc45d.bindTooltip(\n",
       "                `&lt;div&gt;\n",
       "                     原動機付自転車（50cc以下）\n",
       "                 &lt;/div&gt;`,\n",
       "                {&quot;sticky&quot;: true}\n",
       "            );\n",
       "        \n",
       "    \n",
       "            var marker_ea6a4a98c6b9614585da0b9e234b0dcd = L.marker(\n",
       "                [35.88113, 139.98645],\n",
       "                {}\n",
       "            ).addTo(marker_cluster_c0afe8ac6d6dc6be57fc083a0a952592);\n",
       "        \n",
       "    \n",
       "            marker_ea6a4a98c6b9614585da0b9e234b0dcd.bindTooltip(\n",
       "                `&lt;div&gt;\n",
       "                     原動機付自転車（50cc以下）\n",
       "                 &lt;/div&gt;`,\n",
       "                {&quot;sticky&quot;: true}\n",
       "            );\n",
       "        \n",
       "    \n",
       "            var marker_85600054cbfef5f1f64a425be7927c9e = L.marker(\n",
       "                [35.859928, 139.949814],\n",
       "                {}\n",
       "            ).addTo(marker_cluster_c0afe8ac6d6dc6be57fc083a0a952592);\n",
       "        \n",
       "    \n",
       "            marker_85600054cbfef5f1f64a425be7927c9e.bindTooltip(\n",
       "                `&lt;div&gt;\n",
       "                     原動機付自転車（50cc以下）\n",
       "                 &lt;/div&gt;`,\n",
       "                {&quot;sticky&quot;: true}\n",
       "            );\n",
       "        \n",
       "    \n",
       "            var marker_bd70be5db04d3eb33f8ff77e4358dbe7 = L.marker(\n",
       "                [35.821732, 139.973206],\n",
       "                {}\n",
       "            ).addTo(marker_cluster_c0afe8ac6d6dc6be57fc083a0a952592);\n",
       "        \n",
       "    \n",
       "            marker_bd70be5db04d3eb33f8ff77e4358dbe7.bindTooltip(\n",
       "                `&lt;div&gt;\n",
       "                     原動機付自転車（50cc以下）\n",
       "                 &lt;/div&gt;`,\n",
       "                {&quot;sticky&quot;: true}\n",
       "            );\n",
       "        \n",
       "    \n",
       "            var marker_46c48fdf96d0b4cc3cc9d603e1b8ec84 = L.marker(\n",
       "                [35.868122, 139.943359],\n",
       "                {}\n",
       "            ).addTo(marker_cluster_c0afe8ac6d6dc6be57fc083a0a952592);\n",
       "        \n",
       "    \n",
       "            marker_46c48fdf96d0b4cc3cc9d603e1b8ec84.bindTooltip(\n",
       "                `&lt;div&gt;\n",
       "                     自動二輪（50cc超）\n",
       "                 &lt;/div&gt;`,\n",
       "                {&quot;sticky&quot;: true}\n",
       "            );\n",
       "        \n",
       "    \n",
       "            var marker_e2b83c7569b99ff8d5b6c38caf6a1d86 = L.marker(\n",
       "                [35.849293, 139.987366],\n",
       "                {}\n",
       "            ).addTo(marker_cluster_c0afe8ac6d6dc6be57fc083a0a952592);\n",
       "        \n",
       "    \n",
       "            marker_e2b83c7569b99ff8d5b6c38caf6a1d86.bindTooltip(\n",
       "                `&lt;div&gt;\n",
       "                     自動二輪（50cc超）\n",
       "                 &lt;/div&gt;`,\n",
       "                {&quot;sticky&quot;: true}\n",
       "            );\n",
       "        \n",
       "    \n",
       "            var marker_020a5d84cb047b6863f6b4200e67cc1e = L.marker(\n",
       "                [35.859928, 139.949814],\n",
       "                {}\n",
       "            ).addTo(marker_cluster_c0afe8ac6d6dc6be57fc083a0a952592);\n",
       "        \n",
       "    \n",
       "            marker_020a5d84cb047b6863f6b4200e67cc1e.bindTooltip(\n",
       "                `&lt;div&gt;\n",
       "                     原動機付自転車（50cc以下）\n",
       "                 &lt;/div&gt;`,\n",
       "                {&quot;sticky&quot;: true}\n",
       "            );\n",
       "        \n",
       "    \n",
       "            var marker_05f4cd96bd004ddd71ee69808e828aa9 = L.marker(\n",
       "                [35.816387, 139.974075],\n",
       "                {}\n",
       "            ).addTo(marker_cluster_c0afe8ac6d6dc6be57fc083a0a952592);\n",
       "        \n",
       "    \n",
       "            marker_05f4cd96bd004ddd71ee69808e828aa9.bindTooltip(\n",
       "                `&lt;div&gt;\n",
       "                     原動機付自転車（50cc以下）\n",
       "                 &lt;/div&gt;`,\n",
       "                {&quot;sticky&quot;: true}\n",
       "            );\n",
       "        \n",
       "    \n",
       "            var marker_482f09257f9d2776686ba7fde33737d7 = L.marker(\n",
       "                [35.803249, 139.974625],\n",
       "                {}\n",
       "            ).addTo(marker_cluster_c0afe8ac6d6dc6be57fc083a0a952592);\n",
       "        \n",
       "    \n",
       "            marker_482f09257f9d2776686ba7fde33737d7.bindTooltip(\n",
       "                `&lt;div&gt;\n",
       "                     自動二輪（50cc超）\n",
       "                 &lt;/div&gt;`,\n",
       "                {&quot;sticky&quot;: true}\n",
       "            );\n",
       "        \n",
       "    \n",
       "            var marker_0932a602b8885b507c3e3522f8240632 = L.marker(\n",
       "                [35.891537, 139.936203],\n",
       "                {}\n",
       "            ).addTo(marker_cluster_c0afe8ac6d6dc6be57fc083a0a952592);\n",
       "        \n",
       "    \n",
       "            marker_0932a602b8885b507c3e3522f8240632.bindTooltip(\n",
       "                `&lt;div&gt;\n",
       "                     原動機付自転車（50cc以下）\n",
       "                 &lt;/div&gt;`,\n",
       "                {&quot;sticky&quot;: true}\n",
       "            );\n",
       "        \n",
       "    \n",
       "            var marker_ab369fc855380cbc7f877da7f530296d = L.marker(\n",
       "                [35.80233, 140.021378],\n",
       "                {}\n",
       "            ).addTo(marker_cluster_c0afe8ac6d6dc6be57fc083a0a952592);\n",
       "        \n",
       "    \n",
       "            marker_ab369fc855380cbc7f877da7f530296d.bindTooltip(\n",
       "                `&lt;div&gt;\n",
       "                     自動二輪（50cc超）\n",
       "                 &lt;/div&gt;`,\n",
       "                {&quot;sticky&quot;: true}\n",
       "            );\n",
       "        \n",
       "    \n",
       "            var marker_8254c7a991910d59e5a8c0aeca25e6c7 = L.marker(\n",
       "                [35.863903, 139.956039],\n",
       "                {}\n",
       "            ).addTo(marker_cluster_c0afe8ac6d6dc6be57fc083a0a952592);\n",
       "        \n",
       "    \n",
       "            marker_8254c7a991910d59e5a8c0aeca25e6c7.bindTooltip(\n",
       "                `&lt;div&gt;\n",
       "                     その他\n",
       "                 &lt;/div&gt;`,\n",
       "                {&quot;sticky&quot;: true}\n",
       "            );\n",
       "        \n",
       "    \n",
       "            var marker_95ccf49005c8b683dc31168b02edf9c5 = L.marker(\n",
       "                [35.863903, 139.956039],\n",
       "                {}\n",
       "            ).addTo(marker_cluster_c0afe8ac6d6dc6be57fc083a0a952592);\n",
       "        \n",
       "    \n",
       "            marker_95ccf49005c8b683dc31168b02edf9c5.bindTooltip(\n",
       "                `&lt;div&gt;\n",
       "                     原動機付自転車（50cc以下）\n",
       "                 &lt;/div&gt;`,\n",
       "                {&quot;sticky&quot;: true}\n",
       "            );\n",
       "        \n",
       "    \n",
       "            var marker_133a738810b9064df9699f36a33df158 = L.marker(\n",
       "                [35.869198, 139.957932],\n",
       "                {}\n",
       "            ).addTo(marker_cluster_c0afe8ac6d6dc6be57fc083a0a952592);\n",
       "        \n",
       "    \n",
       "            marker_133a738810b9064df9699f36a33df158.bindTooltip(\n",
       "                `&lt;div&gt;\n",
       "                     自動二輪（50cc超）\n",
       "                 &lt;/div&gt;`,\n",
       "                {&quot;sticky&quot;: true}\n",
       "            );\n",
       "        \n",
       "    \n",
       "            var marker_c3c92ee9d4deabab60567c68c030cb7b = L.marker(\n",
       "                [35.834927, 139.996063],\n",
       "                {}\n",
       "            ).addTo(marker_cluster_c0afe8ac6d6dc6be57fc083a0a952592);\n",
       "        \n",
       "    \n",
       "            marker_c3c92ee9d4deabab60567c68c030cb7b.bindTooltip(\n",
       "                `&lt;div&gt;\n",
       "                     自動二輪（50cc超）\n",
       "                 &lt;/div&gt;`,\n",
       "                {&quot;sticky&quot;: true}\n",
       "            );\n",
       "        \n",
       "    \n",
       "            var marker_2f070219cb8fab771a7bbf5b42b2ddd1 = L.marker(\n",
       "                [35.834927, 139.996063],\n",
       "                {}\n",
       "            ).addTo(marker_cluster_c0afe8ac6d6dc6be57fc083a0a952592);\n",
       "        \n",
       "    \n",
       "            marker_2f070219cb8fab771a7bbf5b42b2ddd1.bindTooltip(\n",
       "                `&lt;div&gt;\n",
       "                     原動機付自転車（50cc以下）\n",
       "                 &lt;/div&gt;`,\n",
       "                {&quot;sticky&quot;: true}\n",
       "            );\n",
       "        \n",
       "    \n",
       "            var marker_0a52c4f33c097c3515748a6f31023135 = L.marker(\n",
       "                [35.834927, 139.996063],\n",
       "                {}\n",
       "            ).addTo(marker_cluster_c0afe8ac6d6dc6be57fc083a0a952592);\n",
       "        \n",
       "    \n",
       "            marker_0a52c4f33c097c3515748a6f31023135.bindTooltip(\n",
       "                `&lt;div&gt;\n",
       "                     原動機付自転車（50cc以下）\n",
       "                 &lt;/div&gt;`,\n",
       "                {&quot;sticky&quot;: true}\n",
       "            );\n",
       "        \n",
       "    \n",
       "            var marker_740017ad443920c6b2b1d5d89d5555c8 = L.marker(\n",
       "                [35.833794, 140.00264],\n",
       "                {}\n",
       "            ).addTo(marker_cluster_c0afe8ac6d6dc6be57fc083a0a952592);\n",
       "        \n",
       "    \n",
       "            marker_740017ad443920c6b2b1d5d89d5555c8.bindTooltip(\n",
       "                `&lt;div&gt;\n",
       "                     原動機付自転車（50cc以下）\n",
       "                 &lt;/div&gt;`,\n",
       "                {&quot;sticky&quot;: true}\n",
       "            );\n",
       "        \n",
       "    \n",
       "            var marker_84c08c9e3d3bcdffc030b8786296985a = L.marker(\n",
       "                [35.846344, 140.008148],\n",
       "                {}\n",
       "            ).addTo(marker_cluster_c0afe8ac6d6dc6be57fc083a0a952592);\n",
       "        \n",
       "    \n",
       "            marker_84c08c9e3d3bcdffc030b8786296985a.bindTooltip(\n",
       "                `&lt;div&gt;\n",
       "                     原動機付自転車（50cc以下）\n",
       "                 &lt;/div&gt;`,\n",
       "                {&quot;sticky&quot;: true}\n",
       "            );\n",
       "        \n",
       "    \n",
       "            var marker_3fad26dc3d8daf8f35c84d5d796c03e8 = L.marker(\n",
       "                [35.846394, 140.026993],\n",
       "                {}\n",
       "            ).addTo(marker_cluster_c0afe8ac6d6dc6be57fc083a0a952592);\n",
       "        \n",
       "    \n",
       "            marker_3fad26dc3d8daf8f35c84d5d796c03e8.bindTooltip(\n",
       "                `&lt;div&gt;\n",
       "                     原動機付自転車（50cc以下）\n",
       "                 &lt;/div&gt;`,\n",
       "                {&quot;sticky&quot;: true}\n",
       "            );\n",
       "        \n",
       "    \n",
       "            var marker_dd236af4b9244057c4f94733952d4598 = L.marker(\n",
       "                [35.846394, 140.026993],\n",
       "                {}\n",
       "            ).addTo(marker_cluster_c0afe8ac6d6dc6be57fc083a0a952592);\n",
       "        \n",
       "    \n",
       "            marker_dd236af4b9244057c4f94733952d4598.bindTooltip(\n",
       "                `&lt;div&gt;\n",
       "                     原動機付自転車（50cc以下）\n",
       "                 &lt;/div&gt;`,\n",
       "                {&quot;sticky&quot;: true}\n",
       "            );\n",
       "        \n",
       "    \n",
       "            var marker_93361730b543645c4e4e61e8e7605df9 = L.marker(\n",
       "                [35.861809, 139.97142],\n",
       "                {}\n",
       "            ).addTo(marker_cluster_c0afe8ac6d6dc6be57fc083a0a952592);\n",
       "        \n",
       "    \n",
       "            marker_93361730b543645c4e4e61e8e7605df9.bindTooltip(\n",
       "                `&lt;div&gt;\n",
       "                     原動機付自転車（50cc以下）\n",
       "                 &lt;/div&gt;`,\n",
       "                {&quot;sticky&quot;: true}\n",
       "            );\n",
       "        \n",
       "    \n",
       "            var marker_d987a2b52831bb13af6fa86915daf76f = L.marker(\n",
       "                [35.861809, 139.97142],\n",
       "                {}\n",
       "            ).addTo(marker_cluster_c0afe8ac6d6dc6be57fc083a0a952592);\n",
       "        \n",
       "    \n",
       "            marker_d987a2b52831bb13af6fa86915daf76f.bindTooltip(\n",
       "                `&lt;div&gt;\n",
       "                     原動機付自転車（50cc以下）\n",
       "                 &lt;/div&gt;`,\n",
       "                {&quot;sticky&quot;: true}\n",
       "            );\n",
       "        \n",
       "    \n",
       "            var marker_2eced6f8321c19637b1678b4153fc30e = L.marker(\n",
       "                [35.861694, 139.973999],\n",
       "                {}\n",
       "            ).addTo(marker_cluster_c0afe8ac6d6dc6be57fc083a0a952592);\n",
       "        \n",
       "    \n",
       "            marker_2eced6f8321c19637b1678b4153fc30e.bindTooltip(\n",
       "                `&lt;div&gt;\n",
       "                     自動二輪（50cc超）\n",
       "                 &lt;/div&gt;`,\n",
       "                {&quot;sticky&quot;: true}\n",
       "            );\n",
       "        \n",
       "    \n",
       "            var marker_bbbc8ef1afd47a1477549422178e2327 = L.marker(\n",
       "                [35.807571, 139.970367],\n",
       "                {}\n",
       "            ).addTo(marker_cluster_c0afe8ac6d6dc6be57fc083a0a952592);\n",
       "        \n",
       "    \n",
       "            marker_bbbc8ef1afd47a1477549422178e2327.bindTooltip(\n",
       "                `&lt;div&gt;\n",
       "                     自動二輪（50cc超）\n",
       "                 &lt;/div&gt;`,\n",
       "                {&quot;sticky&quot;: true}\n",
       "            );\n",
       "        \n",
       "    \n",
       "            var marker_6b30ac38122f3b3b344926ee332520a3 = L.marker(\n",
       "                [35.872192, 139.987793],\n",
       "                {}\n",
       "            ).addTo(marker_cluster_c0afe8ac6d6dc6be57fc083a0a952592);\n",
       "        \n",
       "    \n",
       "            marker_6b30ac38122f3b3b344926ee332520a3.bindTooltip(\n",
       "                `&lt;div&gt;\n",
       "                     自動二輪（50cc超）\n",
       "                 &lt;/div&gt;`,\n",
       "                {&quot;sticky&quot;: true}\n",
       "            );\n",
       "        \n",
       "    \n",
       "            var marker_1bdc1b2e3fea9fc947b8f6a19cff4378 = L.marker(\n",
       "                [35.877697, 139.949219],\n",
       "                {}\n",
       "            ).addTo(marker_cluster_c0afe8ac6d6dc6be57fc083a0a952592);\n",
       "        \n",
       "    \n",
       "            marker_1bdc1b2e3fea9fc947b8f6a19cff4378.bindTooltip(\n",
       "                `&lt;div&gt;\n",
       "                     自動二輪（50cc超）\n",
       "                 &lt;/div&gt;`,\n",
       "                {&quot;sticky&quot;: true}\n",
       "            );\n",
       "        \n",
       "    \n",
       "            var marker_9e6f837cde9f86b6ace419cdc83a0494 = L.marker(\n",
       "                [35.882629, 139.959305],\n",
       "                {}\n",
       "            ).addTo(marker_cluster_c0afe8ac6d6dc6be57fc083a0a952592);\n",
       "        \n",
       "    \n",
       "            marker_9e6f837cde9f86b6ace419cdc83a0494.bindTooltip(\n",
       "                `&lt;div&gt;\n",
       "                     原動機付自転車（50cc以下）\n",
       "                 &lt;/div&gt;`,\n",
       "                {&quot;sticky&quot;: true}\n",
       "            );\n",
       "        \n",
       "    \n",
       "            var marker_3d155c0a910d388724439492bc47fb7f = L.marker(\n",
       "                [35.868122, 139.943359],\n",
       "                {}\n",
       "            ).addTo(marker_cluster_c0afe8ac6d6dc6be57fc083a0a952592);\n",
       "        \n",
       "    \n",
       "            marker_3d155c0a910d388724439492bc47fb7f.bindTooltip(\n",
       "                `&lt;div&gt;\n",
       "                     自動二輪（50cc超）\n",
       "                 &lt;/div&gt;`,\n",
       "                {&quot;sticky&quot;: true}\n",
       "            );\n",
       "        \n",
       "    \n",
       "            var marker_8a8b0d1f1007a50dd5dec824ead4f8d5 = L.marker(\n",
       "                [35.868122, 139.943359],\n",
       "                {}\n",
       "            ).addTo(marker_cluster_c0afe8ac6d6dc6be57fc083a0a952592);\n",
       "        \n",
       "    \n",
       "            marker_8a8b0d1f1007a50dd5dec824ead4f8d5.bindTooltip(\n",
       "                `&lt;div&gt;\n",
       "                     自動二輪（50cc超）\n",
       "                 &lt;/div&gt;`,\n",
       "                {&quot;sticky&quot;: true}\n",
       "            );\n",
       "        \n",
       "    \n",
       "            var marker_1e693702b61056da44af85c8c22f2d69 = L.marker(\n",
       "                [35.911968, 139.961746],\n",
       "                {}\n",
       "            ).addTo(marker_cluster_c0afe8ac6d6dc6be57fc083a0a952592);\n",
       "        \n",
       "    \n",
       "            marker_1e693702b61056da44af85c8c22f2d69.bindTooltip(\n",
       "                `&lt;div&gt;\n",
       "                     原動機付自転車（50cc以下）\n",
       "                 &lt;/div&gt;`,\n",
       "                {&quot;sticky&quot;: true}\n",
       "            );\n",
       "        \n",
       "    \n",
       "            var marker_fcf0dd7679e1ba5bff370051c4bfa2bb = L.marker(\n",
       "                [35.911968, 139.961746],\n",
       "                {}\n",
       "            ).addTo(marker_cluster_c0afe8ac6d6dc6be57fc083a0a952592);\n",
       "        \n",
       "    \n",
       "            marker_fcf0dd7679e1ba5bff370051c4bfa2bb.bindTooltip(\n",
       "                `&lt;div&gt;\n",
       "                     自動二輪（50cc超）\n",
       "                 &lt;/div&gt;`,\n",
       "                {&quot;sticky&quot;: true}\n",
       "            );\n",
       "        \n",
       "    \n",
       "            var marker_4056fa21b2e27481dac033fd1f522859 = L.marker(\n",
       "                [35.824585, 139.961349],\n",
       "                {}\n",
       "            ).addTo(marker_cluster_c0afe8ac6d6dc6be57fc083a0a952592);\n",
       "        \n",
       "    \n",
       "            marker_4056fa21b2e27481dac033fd1f522859.bindTooltip(\n",
       "                `&lt;div&gt;\n",
       "                     原動機付自転車（50cc以下）\n",
       "                 &lt;/div&gt;`,\n",
       "                {&quot;sticky&quot;: true}\n",
       "            );\n",
       "        \n",
       "    \n",
       "            var marker_546732de2190e88f98e333ad173b4f7d = L.marker(\n",
       "                [35.823711, 139.957443],\n",
       "                {}\n",
       "            ).addTo(marker_cluster_c0afe8ac6d6dc6be57fc083a0a952592);\n",
       "        \n",
       "    \n",
       "            marker_546732de2190e88f98e333ad173b4f7d.bindTooltip(\n",
       "                `&lt;div&gt;\n",
       "                     自動二輪（50cc超）\n",
       "                 &lt;/div&gt;`,\n",
       "                {&quot;sticky&quot;: true}\n",
       "            );\n",
       "        \n",
       "    \n",
       "            var marker_6b657699f7943c22c229fbb4d942dcf5 = L.marker(\n",
       "                [35.828148, 139.964218],\n",
       "                {}\n",
       "            ).addTo(marker_cluster_c0afe8ac6d6dc6be57fc083a0a952592);\n",
       "        \n",
       "    \n",
       "            marker_6b657699f7943c22c229fbb4d942dcf5.bindTooltip(\n",
       "                `&lt;div&gt;\n",
       "                     原動機付自転車（50cc以下）\n",
       "                 &lt;/div&gt;`,\n",
       "                {&quot;sticky&quot;: true}\n",
       "            );\n",
       "        \n",
       "    \n",
       "            var marker_2608725aa57aef4c8cd50ee155d456ca = L.marker(\n",
       "                [35.824898, 139.955688],\n",
       "                {}\n",
       "            ).addTo(marker_cluster_c0afe8ac6d6dc6be57fc083a0a952592);\n",
       "        \n",
       "    \n",
       "            marker_2608725aa57aef4c8cd50ee155d456ca.bindTooltip(\n",
       "                `&lt;div&gt;\n",
       "                     原動機付自転車（50cc以下）\n",
       "                 &lt;/div&gt;`,\n",
       "                {&quot;sticky&quot;: true}\n",
       "            );\n",
       "        \n",
       "    \n",
       "            var marker_653c27e89fe9eb5fb45690b9cd92d59f = L.marker(\n",
       "                [35.825123, 139.952393],\n",
       "                {}\n",
       "            ).addTo(marker_cluster_c0afe8ac6d6dc6be57fc083a0a952592);\n",
       "        \n",
       "    \n",
       "            marker_653c27e89fe9eb5fb45690b9cd92d59f.bindTooltip(\n",
       "                `&lt;div&gt;\n",
       "                     原動機付自転車（50cc以下）\n",
       "                 &lt;/div&gt;`,\n",
       "                {&quot;sticky&quot;: true}\n",
       "            );\n",
       "        \n",
       "    \n",
       "            var marker_b9234966c0021911394b71dc273871ff = L.marker(\n",
       "                [35.825123, 139.952393],\n",
       "                {}\n",
       "            ).addTo(marker_cluster_c0afe8ac6d6dc6be57fc083a0a952592);\n",
       "        \n",
       "    \n",
       "            marker_b9234966c0021911394b71dc273871ff.bindTooltip(\n",
       "                `&lt;div&gt;\n",
       "                     自動二輪（50cc超）\n",
       "                 &lt;/div&gt;`,\n",
       "                {&quot;sticky&quot;: true}\n",
       "            );\n",
       "        \n",
       "    \n",
       "            var marker_9c8b8f218b732999580628b3bfbd6b37 = L.marker(\n",
       "                [35.889473, 139.966446],\n",
       "                {}\n",
       "            ).addTo(marker_cluster_c0afe8ac6d6dc6be57fc083a0a952592);\n",
       "        \n",
       "    \n",
       "            marker_9c8b8f218b732999580628b3bfbd6b37.bindTooltip(\n",
       "                `&lt;div&gt;\n",
       "                     自動二輪（50cc超）\n",
       "                 &lt;/div&gt;`,\n",
       "                {&quot;sticky&quot;: true}\n",
       "            );\n",
       "        \n",
       "    \n",
       "            var marker_2c691172d9cd19ec7f5b200329645e84 = L.marker(\n",
       "                [35.856987, 139.981491],\n",
       "                {}\n",
       "            ).addTo(marker_cluster_c0afe8ac6d6dc6be57fc083a0a952592);\n",
       "        \n",
       "    \n",
       "            marker_2c691172d9cd19ec7f5b200329645e84.bindTooltip(\n",
       "                `&lt;div&gt;\n",
       "                     自動二輪（50cc超）\n",
       "                 &lt;/div&gt;`,\n",
       "                {&quot;sticky&quot;: true}\n",
       "            );\n",
       "        \n",
       "    \n",
       "            var marker_c03f85fee9c164d5fea4b5bd245a3692 = L.marker(\n",
       "                [35.856525, 139.976288],\n",
       "                {}\n",
       "            ).addTo(marker_cluster_c0afe8ac6d6dc6be57fc083a0a952592);\n",
       "        \n",
       "    \n",
       "            marker_c03f85fee9c164d5fea4b5bd245a3692.bindTooltip(\n",
       "                `&lt;div&gt;\n",
       "                     自動二輪（50cc超）\n",
       "                 &lt;/div&gt;`,\n",
       "                {&quot;sticky&quot;: true}\n",
       "            );\n",
       "        \n",
       "    \n",
       "            var marker_e0e7d80cda08034329f955fd1c28dd17 = L.marker(\n",
       "                [35.85392, 139.971054],\n",
       "                {}\n",
       "            ).addTo(marker_cluster_c0afe8ac6d6dc6be57fc083a0a952592);\n",
       "        \n",
       "    \n",
       "            marker_e0e7d80cda08034329f955fd1c28dd17.bindTooltip(\n",
       "                `&lt;div&gt;\n",
       "                     自動二輪（50cc超）\n",
       "                 &lt;/div&gt;`,\n",
       "                {&quot;sticky&quot;: true}\n",
       "            );\n",
       "        \n",
       "    \n",
       "            var marker_6ee74b3be7169606c3f5129824184315 = L.marker(\n",
       "                [35.824383, 139.979614],\n",
       "                {}\n",
       "            ).addTo(marker_cluster_c0afe8ac6d6dc6be57fc083a0a952592);\n",
       "        \n",
       "    \n",
       "            marker_6ee74b3be7169606c3f5129824184315.bindTooltip(\n",
       "                `&lt;div&gt;\n",
       "                     原動機付自転車（50cc以下）\n",
       "                 &lt;/div&gt;`,\n",
       "                {&quot;sticky&quot;: true}\n",
       "            );\n",
       "        \n",
       "    \n",
       "            var marker_723fb324342ad18be7b086865eb3b136 = L.marker(\n",
       "                [35.803249, 139.974625],\n",
       "                {}\n",
       "            ).addTo(marker_cluster_c0afe8ac6d6dc6be57fc083a0a952592);\n",
       "        \n",
       "    \n",
       "            marker_723fb324342ad18be7b086865eb3b136.bindTooltip(\n",
       "                `&lt;div&gt;\n",
       "                     自動二輪（50cc超）\n",
       "                 &lt;/div&gt;`,\n",
       "                {&quot;sticky&quot;: true}\n",
       "            );\n",
       "        \n",
       "    \n",
       "            var marker_286eec3aec74a6b9edf846c2e1e3ebfb = L.marker(\n",
       "                [35.805508, 139.977905],\n",
       "                {}\n",
       "            ).addTo(marker_cluster_c0afe8ac6d6dc6be57fc083a0a952592);\n",
       "        \n",
       "    \n",
       "            marker_286eec3aec74a6b9edf846c2e1e3ebfb.bindTooltip(\n",
       "                `&lt;div&gt;\n",
       "                     自動二輪（50cc超）\n",
       "                 &lt;/div&gt;`,\n",
       "                {&quot;sticky&quot;: true}\n",
       "            );\n",
       "        \n",
       "    \n",
       "            var marker_625e3359e68b21fbc5415df491cac5ab = L.marker(\n",
       "                [35.812092, 139.972183],\n",
       "                {}\n",
       "            ).addTo(marker_cluster_c0afe8ac6d6dc6be57fc083a0a952592);\n",
       "        \n",
       "    \n",
       "            marker_625e3359e68b21fbc5415df491cac5ab.bindTooltip(\n",
       "                `&lt;div&gt;\n",
       "                     自動二輪（50cc超）\n",
       "                 &lt;/div&gt;`,\n",
       "                {&quot;sticky&quot;: true}\n",
       "            );\n",
       "        \n",
       "    \n",
       "            var marker_656afa4725c2cffbb9ce7650c6a03b9d = L.marker(\n",
       "                [35.805519, 139.993011],\n",
       "                {}\n",
       "            ).addTo(marker_cluster_c0afe8ac6d6dc6be57fc083a0a952592);\n",
       "        \n",
       "    \n",
       "            marker_656afa4725c2cffbb9ce7650c6a03b9d.bindTooltip(\n",
       "                `&lt;div&gt;\n",
       "                     原動機付自転車（50cc以下）\n",
       "                 &lt;/div&gt;`,\n",
       "                {&quot;sticky&quot;: true}\n",
       "            );\n",
       "        \n",
       "    \n",
       "            var marker_4e7c961515975b004cd4b557bc863a33 = L.marker(\n",
       "                [35.801025, 139.980179],\n",
       "                {}\n",
       "            ).addTo(marker_cluster_c0afe8ac6d6dc6be57fc083a0a952592);\n",
       "        \n",
       "    \n",
       "            marker_4e7c961515975b004cd4b557bc863a33.bindTooltip(\n",
       "                `&lt;div&gt;\n",
       "                     自動二輪（50cc超）\n",
       "                 &lt;/div&gt;`,\n",
       "                {&quot;sticky&quot;: true}\n",
       "            );\n",
       "        \n",
       "    \n",
       "            var marker_33ae2d80e4e7b7d17d528900eae9f392 = L.marker(\n",
       "                [35.8078, 139.99794],\n",
       "                {}\n",
       "            ).addTo(marker_cluster_c0afe8ac6d6dc6be57fc083a0a952592);\n",
       "        \n",
       "    \n",
       "            marker_33ae2d80e4e7b7d17d528900eae9f392.bindTooltip(\n",
       "                `&lt;div&gt;\n",
       "                     原動機付自転車（50cc以下）\n",
       "                 &lt;/div&gt;`,\n",
       "                {&quot;sticky&quot;: true}\n",
       "            );\n",
       "        \n",
       "    \n",
       "            var marker_d62747040858b2e2af8835d16449acb9 = L.marker(\n",
       "                [35.8078, 139.99794],\n",
       "                {}\n",
       "            ).addTo(marker_cluster_c0afe8ac6d6dc6be57fc083a0a952592);\n",
       "        \n",
       "    \n",
       "            marker_d62747040858b2e2af8835d16449acb9.bindTooltip(\n",
       "                `&lt;div&gt;\n",
       "                     自動二輪（50cc超）\n",
       "                 &lt;/div&gt;`,\n",
       "                {&quot;sticky&quot;: true}\n",
       "            );\n",
       "        \n",
       "    \n",
       "            var marker_7c5823504e2de6042b45bfbfacc7b5df = L.marker(\n",
       "                [35.8078, 139.99794],\n",
       "                {}\n",
       "            ).addTo(marker_cluster_c0afe8ac6d6dc6be57fc083a0a952592);\n",
       "        \n",
       "    \n",
       "            marker_7c5823504e2de6042b45bfbfacc7b5df.bindTooltip(\n",
       "                `&lt;div&gt;\n",
       "                     自動二輪（50cc超）\n",
       "                 &lt;/div&gt;`,\n",
       "                {&quot;sticky&quot;: true}\n",
       "            );\n",
       "        \n",
       "    \n",
       "            var marker_2cbe9ca296366508f0cc43a5b752b68c = L.marker(\n",
       "                [35.842888, 140.038834],\n",
       "                {}\n",
       "            ).addTo(marker_cluster_c0afe8ac6d6dc6be57fc083a0a952592);\n",
       "        \n",
       "    \n",
       "            marker_2cbe9ca296366508f0cc43a5b752b68c.bindTooltip(\n",
       "                `&lt;div&gt;\n",
       "                     自動二輪（50cc超）\n",
       "                 &lt;/div&gt;`,\n",
       "                {&quot;sticky&quot;: true}\n",
       "            );\n",
       "        \n",
       "    \n",
       "            var marker_ce81834ea6fe1f89f340ac588869f002 = L.marker(\n",
       "                [35.80233, 140.021378],\n",
       "                {}\n",
       "            ).addTo(marker_cluster_c0afe8ac6d6dc6be57fc083a0a952592);\n",
       "        \n",
       "    \n",
       "            marker_ce81834ea6fe1f89f340ac588869f002.bindTooltip(\n",
       "                `&lt;div&gt;\n",
       "                     自動二輪（50cc超）\n",
       "                 &lt;/div&gt;`,\n",
       "                {&quot;sticky&quot;: true}\n",
       "            );\n",
       "        \n",
       "    \n",
       "            var marker_24c782480cbc9116a8adba7e24007ba2 = L.marker(\n",
       "                [35.80233, 140.021378],\n",
       "                {}\n",
       "            ).addTo(marker_cluster_c0afe8ac6d6dc6be57fc083a0a952592);\n",
       "        \n",
       "    \n",
       "            marker_24c782480cbc9116a8adba7e24007ba2.bindTooltip(\n",
       "                `&lt;div&gt;\n",
       "                     その他\n",
       "                 &lt;/div&gt;`,\n",
       "                {&quot;sticky&quot;: true}\n",
       "            );\n",
       "        \n",
       "&lt;/script&gt;\n",
       "&lt;/html&gt;\" style=\"position:absolute;width:100%;height:100%;left:0;top:0;border:none !important;\" allowfullscreen webkitallowfullscreen mozallowfullscreen></iframe></div></div>"
      ],
      "text/plain": [
       "<folium.folium.Map at 0x18a767fd390>"
      ]
     },
     "execution_count": 54,
     "metadata": {},
     "output_type": "execute_result"
    }
   ],
   "source": [
    "# make the map\n",
    "m = folium.Map(location=[center_lat,center_lon], \n",
    "               zoom_start=12)\n",
    "\n",
    "# マーカーがメチャクチャ多い場合はclusterで処理！\n",
    "marker_cluster = plugins.MarkerCluster().add_to(m)\n",
    " \n",
    "# kashiwaのデータフレームをループしてマーカーを作る\n",
    "for index, row in kashiwa.iterrows():\n",
    "    latlon = [row['lat'],row['lon']]\n",
    "    folium.Marker(latlon, \n",
    "                  tooltip=row['現金以外の主な被害品'],\n",
    "                ).add_to(marker_cluster) # mapにではなくmarker_clusterに足す\n",
    "\n",
    "# show the map\n",
    "m"
   ]
  }
 ],
 "metadata": {
  "kernelspec": {
   "display_name": "gis",
   "language": "python",
   "name": "python3"
  },
  "language_info": {
   "codemirror_mode": {
    "name": "ipython",
    "version": 3
   },
   "file_extension": ".py",
   "mimetype": "text/x-python",
   "name": "python",
   "nbconvert_exporter": "python",
   "pygments_lexer": "ipython3",
   "version": "3.11.3"
  },
  "orig_nbformat": 4
 },
 "nbformat": 4,
 "nbformat_minor": 2
}
